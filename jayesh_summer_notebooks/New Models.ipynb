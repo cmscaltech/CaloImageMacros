{
 "cells": [
  {
   "cell_type": "code",
   "execution_count": 4,
   "metadata": {
    "collapsed": false
   },
   "outputs": [],
   "source": [
    "#Import all necessary packages\n",
    "from nn_packages import *\n",
    "from io_functions import *\n",
    "import numpy as np\n",
    "import root_numpy as rnp\n",
    "import os\n",
    "import sys\n",
    "import re\n",
    "import glob\n",
    "import h5py\n",
    "import numpy as np\n",
    "#import keras\n",
    "from keras.models import Sequential,Model\n",
    "from keras.layers import Dense, Activation,Input, Dense, Dropout, merge\n",
    "from keras.callbacks import EarlyStopping, ModelCheckpoint\n",
    "from keras.models import model_from_json, Sequential\n",
    "from keras.layers import Dense, Dropout, Activation, Convolution2D, Convolution3D, Flatten, MaxPooling2D, MaxPooling3D, Merge"
   ]
  },
  {
   "cell_type": "code",
   "execution_count": 3,
   "metadata": {
    "collapsed": false
   },
   "outputs": [
    {
     "ename": "IndentationError",
     "evalue": "unindent does not match any outer indentation level (<ipython-input-3-132b8c776a7b>, line 6)",
     "output_type": "error",
     "traceback": [
      "\u001b[1;36m  File \u001b[1;32m\"<ipython-input-3-132b8c776a7b>\"\u001b[1;36m, line \u001b[1;32m6\u001b[0m\n\u001b[1;33m    def __init__( self, batch_size,train_split=0.6,validation_split=0.2,test_split=0.2):\u001b[0m\n\u001b[1;37m                                                                                        ^\u001b[0m\n\u001b[1;31mIndentationError\u001b[0m\u001b[1;31m:\u001b[0m unindent does not match any outer indentation level\n"
     ]
    }
   ],
   "source": [
    "class ClsGen:\n",
    "     '''\n",
    "    Data generator class for directory of h5 files\n",
    "    '''\n",
    "\n",
    "    def __init__( self, batch_size,train_split=0.6,validation_split=0.2,test_split=0.2):\n",
    "        self.batch_size = batch_size\n",
    "        self.filelist=[]\n",
    "        for i in xrange(1,101):\n",
    "            self.filelist.append('/scratch/daint/vlimant/LCD/New_Data_Shuffled/New_Data_Shuffled/GammaPi0_shuffled_%d.h5'%i) \n",
    "        self.train_split = train_split \n",
    "        self.validation_split = validation_split\n",
    "        self.test_split = test_split\n",
    "        self.fileindex = 0\n",
    "        self.filesize = 0\n",
    "        self.position = 0\n",
    "    #function to call when generating data for training\n",
    "\n",
    "  \n",
    "    def train(self,modeltype=3):\n",
    "        '''\n",
    "        Generate data for training only\n",
    "        '''\n",
    "        length = len(self.filelist)\n",
    "        #deleting the validation and test set filenames from the filelist\n",
    "        del self.filelist[np.floor((1-(self.train_split))*length).astype(int):]\n",
    "        return self.batches(modeltype)\n",
    "    #function to call when generating data for testing\n",
    "\n",
    "\n",
    "    def test(self,modeltype=3):\n",
    "        '''\n",
    "        Generate data for testing only\n",
    "        '''\n",
    "        length = len(self.filelist)\n",
    "        #deleting the train and validation set filenames from the filelist\n",
    "        del self.filelist[:np.floor((1-self.test_split)*length).astype(int)+1]\n",
    "        return self.batches(modeltype)\n",
    "    #function to call when generating data for validating\n",
    "\n",
    "\n",
    "    def validation(self,modeltype=3):\n",
    "        '''\n",
    "        Generate data for validation only\n",
    "        '''\n",
    "        length = len(self.filelist)\n",
    "        #modifying the filename list to only include files for validation set\n",
    "        self.filelist = self.filelist[np.floor(self.train_split*length+1).astype(int):np.floor((self.train_split+self.validation_split)*length+1).astype(int)]\n",
    "        return self.batches(modeltype)\n",
    "\n",
    "\n",
    "        \n",
    "    #The function which reads files to gather data until batch size is satisfied\n",
    "    def batch_helper(self, fileindex, position, batch_size):\n",
    "        '''\n",
    "        Reads files to gather data until batch size is satisfied, then yeilds\n",
    "        '''\n",
    "        f = h5py.File(self.filelist[fileindex],'r')\n",
    "        self.filesize = np.array(f['ECAL']).shape[0]\n",
    "\n",
    "\n",
    "        if (position + batch_size < self.filesize):\n",
    "            data_ECAL = np.array(f['ECAL'][position : position + batch_size])\n",
    "            data_HCAL = np.array(f['HCAL'][position : position + batch_size])\n",
    "            target = np.array(f['target'][position : position + batch_size][:,:,0])\n",
    "            position += batch_size\n",
    "            f.close()\n",
    "            return data_ECAL,data_HCAL, target, fileindex, position\n",
    "        \n",
    "        else:\n",
    "\n",
    "            data_ECAL = np.array(f['ECAL'][position : ])\n",
    "            data_HCAL = np.array(f['HCAL'][position : ])\n",
    "            target = np.array(f['target'][position:][:,:,0])\n",
    "            #target = np.delete(target,0,1)\n",
    "            f.close()\n",
    "            \n",
    "\n",
    "            if (fileindex+1 < len(self.filelist)):\n",
    "                if(self.batch_size-data_ECAL.shape[0]>0):\n",
    "                    while(self.batch_size-data_ECAL.shape[0]>0):\n",
    "                        if(int(np.floor((self.batch_size-data_ECAL.shape[0])/self.filesize))==0):\n",
    "                            number_of_files=1\n",
    "                        else:\n",
    "                            number_of_files=int(np.ceil((self.batch_size-data_ECAL.shape[0])/self.filesize))\n",
    "                        for i in xrange(0,number_of_files):\n",
    "\n",
    "                            if fileindex + i + 1 > len(self.filelist):\n",
    "                                fileindex = -1 - i\n",
    "\n",
    "                            f = h5py.File(self.filelist[fileindex+i+1],'r')\n",
    "\n",
    "                            if (self.batch_size-data_ECAL.shape[0]<self.filesize):\n",
    "                                position = self.batch_size-data_ECAL.shape[0]\n",
    "                                data_temp_ECAL = np.array(f['ECAL'][ : position])\n",
    "                                data_temp_HCAL = np.array(f['HCAL'][: position])\n",
    "                                target_temp = np.array(f['target'][:position][:,:,0])\n",
    "\n",
    "                            else:\n",
    "                                data_temp_ECAL = np.array(f['ECAL'])\n",
    "                                data_temp_HCAL = np.array(f['HCAL'])\n",
    "                                target_temp = np.array(f['target'][:,:,0])\n",
    "\n",
    "                            f.close()\n",
    "                            data_ECAL = np.concatenate((data_ECAL, data_temp_ECAL), axis=0)\n",
    "                            data_HCAL = np.concatenate((data_HCAL, data_temp_HCAL), axis=0)\n",
    "                            target = np.concatenate((target, target_temp), axis=0)\n",
    "\n",
    "                    if (fileindex +i+1<len(self.filelist)):\n",
    "                        fileindex = fileindex +i+1\n",
    "                    else:\n",
    "                        fileindex = 0\n",
    "                else:\n",
    "                    position = 0\n",
    "                    fileindex=fileindex+1\n",
    "            else:\n",
    "                fileindex = 0\n",
    "                position = 0\n",
    "            \n",
    "            return data_ECAL,data_HCAL, target, fileindex, position\n",
    "    #The function which loops indefinitely and continues to return data of the specified batch size\n",
    "\n",
    "    def batches(self, modeltype):\n",
    "        '''\n",
    "        Loops indefinitely and continues to return data of specified batch size\n",
    "        '''\n",
    "        while (self.fileindex < len(self.filelist)):\n",
    "            data_ECAL,data_HCAL, target, self.fileindex, self.position = self.batch_helper(self.fileindex, self.position, self.batch_size)\n",
    "            if data_ECAL.shape[0]!=self.batch_size:\n",
    "                continue\n",
    "\n",
    "            if modeltype==3:\n",
    "                data_ECAL = data_ECAL.reshape((data_ECAL.shape[0],)+(1, 25, 25, 25))\n",
    "                data_HCAL = data_HCAL.reshape((data_HCAL.shape[0],)+(1, 5, 5, 60))\n",
    "\n",
    "            elif modeltype==2:\n",
    "                data_ECAL = data_ECAL.reshape((data_ECAL.shape[0],)+(25, 25, 25))\n",
    "                data_ECAL = np.swapaxes(data_ECAL, 1, 3)\n",
    "                data_HCAL = data_HCAL.reshape((data_HCAL.shape[0],)+(5, 5, 60))\n",
    "                data_HCAL = np.swapaxes(data_HCAL, 1, 3)\n",
    "\n",
    "            elif modeltype==1:\n",
    "                data_ECAL= np.reshape(data_ECAL,(self.batch_size,-1))\n",
    "                data_HCAL= np.reshape(data_HCAL,(self.batch_size,-1))\n",
    "\n",
    "            yield ([data_ECAL,data_HCAL],target)\n",
    "        self.fileindex = 0\n"
   ]
  },
  {
   "cell_type": "code",
   "execution_count": 13,
   "metadata": {
    "collapsed": false
   },
   "outputs": [],
   "source": [
    "h = np.zeros((10,1))\n",
    "v = np.ones((10,1))"
   ]
  },
  {
   "cell_type": "code",
   "execution_count": 18,
   "metadata": {
    "collapsed": false
   },
   "outputs": [
    {
     "name": "stdout",
     "output_type": "stream",
     "text": [
      "[[ 0.  1.]\n",
      " [ 0.  1.]\n",
      " [ 0.  1.]\n",
      " [ 0.  1.]\n",
      " [ 0.  1.]\n",
      " [ 0.  1.]\n",
      " [ 0.  1.]\n",
      " [ 0.  1.]\n",
      " [ 0.  1.]\n",
      " [ 0.  1.]]\n"
     ]
    }
   ],
   "source": [
    "g = np.append(h,v,axis=1)\n",
    "print(g)"
   ]
  },
  {
   "cell_type": "code",
   "execution_count": null,
   "metadata": {
    "collapsed": true
   },
   "outputs": [],
   "source": []
  }
 ],
 "metadata": {
  "kernelspec": {
   "display_name": "Python 2",
   "language": "python",
   "name": "python2"
  },
  "language_info": {
   "codemirror_mode": {
    "name": "ipython",
    "version": 2
   },
   "file_extension": ".py",
   "mimetype": "text/x-python",
   "name": "python",
   "nbconvert_exporter": "python",
   "pygments_lexer": "ipython2",
   "version": "2.7.9"
  }
 },
 "nbformat": 4,
 "nbformat_minor": 0
}
