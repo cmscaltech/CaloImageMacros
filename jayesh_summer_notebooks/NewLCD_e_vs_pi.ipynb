{
 "cells": [
  {
   "cell_type": "code",
   "execution_count": 1,
   "metadata": {
    "collapsed": false
   },
   "outputs": [
    {
     "name": "stderr",
     "output_type": "stream",
     "text": [
      "Using gpu device 1: GeForce GTX TITAN X (CNMeM is disabled, cuDNN 5005)\n",
      "Using Theano backend.\n"
     ]
    },
    {
     "name": "stdout",
     "output_type": "stream",
     "text": [
      "Couldn't import dot_parser, loading of dot files will not be possible.\n",
      "gpu1\n"
     ]
    }
   ],
   "source": [
    "import os\n",
    "import random\n",
    "gpu = 'gpu1'\n",
    "file('/home/%s/.theanorc'%os.getenv('USER'),'w').write('[nvcc]\\nfastmath=True\\nflags =  -arch=sm_30\\n[global]\\n#mode=FAST_RUN\\ndevice=%s\\nfloatX=float32'%gpu)\n",
    "import theano\n",
    "import keras\n",
    "print(theano.config.device)"
   ]
  },
  {
   "cell_type": "code",
   "execution_count": 2,
   "metadata": {
    "collapsed": false
   },
   "outputs": [
    {
     "name": "stderr",
     "output_type": "stream",
     "text": [
      "Using gpu device 0: GeForce GTX TITAN X (CNMeM is disabled, cuDNN 5005)\n",
      "Using Theano backend.\n"
     ]
    },
    {
     "name": "stdout",
     "output_type": "stream",
     "text": [
      "Couldn't import dot_parser, loading of dot files will not be possible.\n"
     ]
    },
    {
     "data": {
      "application/javascript": [
       "require(['codemirror/mode/clike/clike'], function(Clike) { console.log('ROOTaaS - C++ CodeMirror module loaded'); });"
      ]
     },
     "metadata": {},
     "output_type": "display_data"
    },
    {
     "data": {
      "application/javascript": [
       "IPython.CodeCell.config_defaults.highlight_modes['magic_text/x-c++src'] = {'reg':[/^%%cpp/]};"
      ]
     },
     "metadata": {},
     "output_type": "display_data"
    },
    {
     "name": "stderr",
     "output_type": "stream",
     "text": [
      "/usr/local/lib/python2.7/dist-packages/root_numpy/__init__.py:35: RuntimeWarning: numpy 1.11.1 is currently installed but you installed root_numpy against numpy 1.11.0. Please consider reinstalling root_numpy for this numpy version.\n",
      "  RuntimeWarning)\n"
     ]
    },
    {
     "name": "stdout",
     "output_type": "stream",
     "text": [
      "Welcome to ROOTaaS 6.06/04\n"
     ]
    }
   ],
   "source": [
    "from nn_packages import *\n",
    "from io_functions import *\n",
    "import numpy as np\n",
    "import root_numpy as rnp\n",
    "import os\n",
    "import sys\n",
    "import re\n",
    "import glob\n",
    "import h5py\n",
    "import numpy as np\n",
    "#import keras\n",
    "from keras.models import Sequential\n",
    "from keras.layers import Dense, Activation\n",
    "from keras.callbacks import EarlyStopping, ModelCheckpoint\n",
    "from sklearn.metrics import roc_curve, roc_auc_score\n",
    "%matplotlib inline"
   ]
  },
  {
   "cell_type": "markdown",
   "metadata": {},
   "source": [
    "# Shuffle the e vs pi files, for classification and regression"
   ]
  },
  {
   "cell_type": "code",
   "execution_count": null,
   "metadata": {
    "collapsed": false,
    "scrolled": true
   },
   "outputs": [],
   "source": [
    "f=h5py.File(\"/data/kaustuv1993/NewLCD/GammaEscan_1_MERGED/GammaEscan_1_1.h5\",\"r\")\n",
    "f.keys()\n",
    "a=np.array(f['target'])\n",
    "for i in xrange(0,100):\n",
    "    print(a[i])\n",
    "a.shape"
   ]
  },
  {
   "cell_type": "code",
   "execution_count": null,
   "metadata": {
    "collapsed": false,
    "scrolled": true
   },
   "outputs": [],
   "source": [
    "count = 1 \n",
    "for i in xrange(1,9):\n",
    "    for j in xrange(1,11):\n",
    "        f=h5py.File('/data/kaustuv1993/NewLCD/EleEscan_%d_MERGED/EleEscan_%d_%d.h5' %(i,i,j), \"r\")\n",
    "        np_ECAL = np.array(f.get('ECAL'))\n",
    "        np_HCAL = np.array(f.get('HCAL'))\n",
    "        np_target = np.array(f.get('target'))\n",
    "        f.close()\n",
    "        print (i, j)\n",
    "        with h5py.File('/data/kaustuv1993/NewLCD/EleEscan_fulldatasets/EleEscan_%d.h5'%count,'w') as hf:\n",
    "            hf.create_dataset('ECAL', data=np_ECAL)\n",
    "            hf.create_dataset('HCAL', data=np_HCAL)\n",
    "            hf.create_dataset('target', data=np_target)\n",
    "            print (count, hf['ECAL'].shape)\n",
    "            hf.close()\n",
    "            \n",
    "        count = count+1"
   ]
  },
  {
   "cell_type": "code",
   "execution_count": null,
   "metadata": {
    "collapsed": false,
    "scrolled": true
   },
   "outputs": [],
   "source": [
    "count = 1 \n",
    "\n",
    "for i in xrange(1,9):\n",
    "    for j in xrange(1,51,5):\n",
    "        \n",
    "        print (\"File: \", count, i, j)\n",
    "                \n",
    "        f=h5py.File('/data/kaustuv1993/NewLCD/ChPiEscan_%d_MERGED/ChPiEscan_%d_%d.h5' %(i,i,j), \"r\")\n",
    "        np_ECAL = np.array(f.get('ECAL'))\n",
    "        np_HCAL = np.array(f.get('HCAL'))\n",
    "        np_target = np.array(f.get('target'))\n",
    "        f.close()\n",
    "        j+=1\n",
    "        print (j)\n",
    "        f=h5py.File('/data/kaustuv1993/NewLCD/ChPiEscan_%d_MERGED/ChPiEscan_%d_%d.h5' %(i,i,j), \"r\")\n",
    "        np_ECAL = np.concatenate((np_ECAL, np.array(f.get('ECAL'))), axis=0)\n",
    "        np_HCAL = np.concatenate((np_HCAL, np.array(f.get('HCAL'))), axis=0)\n",
    "        np_target = np.concatenate((np_target, np.array(f.get('target'))), axis=0)\n",
    "        f.close()\n",
    "        j+=1\n",
    "        print (j)\n",
    "        f=h5py.File('/data/kaustuv1993/NewLCD/ChPiEscan_%d_MERGED/ChPiEscan_%d_%d.h5' %(i,i,j), \"r\")\n",
    "        np_ECAL = np.concatenate((np_ECAL, np.array(f.get('ECAL'))), axis=0)\n",
    "        np_HCAL = np.concatenate((np_HCAL, np.array(f.get('HCAL'))), axis=0)\n",
    "        np_target = np.concatenate((np_target, np.array(f.get('target'))), axis=0)\n",
    "        f.close()\n",
    "        j+=1\n",
    "        print (j)\n",
    "        f=h5py.File('/data/kaustuv1993/NewLCD/ChPiEscan_%d_MERGED/ChPiEscan_%d_%d.h5' %(i,i,j), \"r\")\n",
    "        np_ECAL = np.concatenate((np_ECAL, np.array(f.get('ECAL'))), axis=0)\n",
    "        np_HCAL = np.concatenate((np_HCAL, np.array(f.get('HCAL'))), axis=0)\n",
    "        np_target = np.concatenate((np_target, np.array(f.get('target'))), axis=0)\n",
    "        f.close()\n",
    "        j+=1\n",
    "        print (j)\n",
    "        f=h5py.File('/data/kaustuv1993/NewLCD/ChPiEscan_%d_MERGED/ChPiEscan_%d_%d.h5' %(i,i,j), \"r\")\n",
    "        np_ECAL = np.concatenate((np_ECAL, np.array(f.get('ECAL'))), axis=0)\n",
    "        np_HCAL = np.concatenate((np_HCAL, np.array(f.get('HCAL'))), axis=0)\n",
    "        np_target = np.concatenate((np_target, np.array(f.get('target'))), axis=0)\n",
    "        f.close()\n",
    "        j+=1\n",
    "        print (j)\n",
    "        print (i, j)\n",
    "                \n",
    "        with h5py.File('/data/kaustuv1993/NewLCD/ChPiEscan_fulldatasets/ChPiEscan_%d.h5'%count,'w') as hf:\n",
    "            hf.create_dataset('ECAL', data=np_ECAL)\n",
    "            hf.create_dataset('HCAL', data=np_HCAL)\n",
    "            hf.create_dataset('target', data=np_target)\n",
    "            print (count, hf['ECAL'].shape)\n",
    "            hf.close()\n",
    "            \n",
    "        count = count+1"
   ]
  },
  {
   "cell_type": "code",
   "execution_count": null,
   "metadata": {
    "collapsed": false,
    "scrolled": true
   },
   "outputs": [],
   "source": [
    "#concatenation before shuffling e and charged Pi\n",
    "count = 1\n",
    "for i in xrange(1, 81):\n",
    "        \n",
    "    print(i)\n",
    "        \n",
    "    fnEle = ('/data/kaustuv1993/NewLCD/EleEscan_fulldatasets/EleEscan_%d.h5'%i)\n",
    "    fnChPi = ('/data/kaustuv1993/NewLCD/ChPiEscan_fulldatasets/ChPiEscan_%d.h5'%i)\n",
    "    fEle = h5py.File(fnEle,'r')\n",
    "    fChPi = h5py.File(fnChPi,'r')\n",
    "        \n",
    "    np_ECALChPi = np.array(fChPi.get('ECAL'))\n",
    "    np_HCALChPi = np.array(fChPi.get('HCAL'))\n",
    "    np_targetChPi = np.array(fChPi.get('target'))\n",
    "        \n",
    "    print (np_ECALChPi.shape)\n",
    "        \n",
    "    np_ECALEle = np.array(fEle.get('ECAL'))\n",
    "    np_HCALEle = np.array(fEle.get('HCAL'))\n",
    "    np_targetEle = np.array(fEle.get('target'))\n",
    "        \n",
    "    print (np_ECALEle.shape)\n",
    "               \n",
    "    fEle.close()\n",
    "    fChPi.close()\n",
    "        \n",
    "    limChPi = int(np.floor(np_ECALChPi.shape[0]/2.0))\n",
    "    print (limChPi)\n",
    "        \n",
    "    if (limChPi % 2 == 1):\n",
    "        limChPi = (limChPi-1)\n",
    "        \n",
    "    limEle = int(np.floor(np_ECALEle.shape[0]/2.0))\n",
    "    print (limEle)\n",
    "        \n",
    "    if (limEle % 2 == 1):\n",
    "        limEle = (limEle-1)    \n",
    "        \n",
    "    np_ECALEle0 = np_ECALEle[limEle:]\n",
    "    np_HCALEle0 = np_HCALEle[limEle:]\n",
    "    np_targetEle0 = np_targetEle[limEle:]\n",
    "        \n",
    "    np_ECALChPi0 = np_ECALChPi[limChPi:]\n",
    "    np_HCALChPi0 = np_HCALChPi[limChPi:]\n",
    "    np_targetChPi0 = np_targetChPi[limChPi:]\n",
    "        \n",
    "    np_ECALEle1 = np_ECALEle[:limEle]\n",
    "    np_HCALEle1 = np_HCALEle[:limEle]\n",
    "    np_targetEle1 = np_targetEle[:limEle]\n",
    "        \n",
    "    np_ECALChPi1 = np_ECALChPi[:limChPi]\n",
    "    np_HCALChPi1 = np_HCALChPi[:limChPi]\n",
    "    np_targetChPi1 = np_targetChPi[:limChPi]\n",
    "        \n",
    "    np_ECAL0 = np.concatenate((np_ECALEle0, np_ECALChPi0), axis=0)\n",
    "    np_HCAL0 = np.concatenate((np_HCALEle0, np_HCALChPi0), axis=0)\n",
    "    np_target0 = np.concatenate((np_targetEle0, np_targetChPi0), axis=0)\n",
    "        \n",
    "    np_ECAL1 = np.concatenate((np_ECALEle1, np_ECALChPi1), axis=0)\n",
    "    np_HCAL1 = np.concatenate((np_HCALEle1, np_HCALChPi1), axis=0)\n",
    "    np_target1 = np.concatenate((np_targetEle1, np_targetChPi1), axis=0)\n",
    "        \n",
    "    with h5py.File('/data/kaustuv1993/NewLCD/EleChPi_shuffled/EleChPi_shuffled_%d.h5'%count,'w') as hf:\n",
    "        hf.create_dataset('ECAL', data=np_ECAL0)\n",
    "        hf.create_dataset('HCAL', data=np_HCAL0)\n",
    "        hf.create_dataset('target', data=np_target0)\n",
    "        print (count, hf['ECAL'].shape)\n",
    "        hf.close()\n",
    "        \n",
    "    count = count+1\n",
    "        \n",
    "    with h5py.File('/data/kaustuv1993/NewLCD/EleChPi_shuffled/EleChPi_shuffled_%d.h5'%count,'w') as hf:\n",
    "        hf.create_dataset('ECAL', data=np_ECAL1)\n",
    "        hf.create_dataset('HCAL', data=np_HCAL1)\n",
    "        hf.create_dataset('target', data=np_target1)\n",
    "        print (count, hf['ECAL'].shape)\n",
    "        hf.close()\n",
    "            \n",
    "    count = count+1"
   ]
  },
  {
   "cell_type": "code",
   "execution_count": null,
   "metadata": {
    "collapsed": false
   },
   "outputs": [],
   "source": [
    "2+2"
   ]
  },
  {
   "cell_type": "code",
   "execution_count": 12,
   "metadata": {
    "collapsed": false
   },
   "outputs": [
    {
     "name": "stdout",
     "output_type": "stream",
     "text": [
      "(10000, 5)\n"
     ]
    }
   ],
   "source": [
    "count = 0 \n",
    "target_list = []\n",
    "for j in xrange(1,2):\n",
    "    #if i==8 and j==44:\n",
    "    #    continue\n",
    "    f=h5py.File('/data/kaustuv1993/NewLCD/ChPiEscan_fulldatasets/ChPiEscan_%d.h5' %(j), \"r\")\n",
    "    np_ECAL = np.array(f.get('ECAL'))\n",
    "    np_HCAL = np.array(f.get('HCAL'))\n",
    "    np_target = np.array(f.get('target'))\n",
    "    \n",
    "    for i in xrange(0,np_ECAL.shape[0]):\n",
    "            target_list.append(np_target[i][0])\n",
    "    new_target = np.array(target_list)\n",
    "    print(new_target.shape)\n",
    "    #new_target = np.append(new_target,np_charge,axis=1)\n",
    "    \n",
    "    f.close()\n",
    "    #print (np_HCAL.shape, i)\n",
    "    #for k in xrange(0,np_target.shape[0]):\n",
    "       #if np_target[k][0][0]==11 or np_target[k][0][0]==211 or np_target[k][0][0]==-11 or np_target[k][0][0]==1:#np_target[k][0][0]==11 or np_target[k][0][0]==-11:\n",
    "            #print (i, j, k)\n",
    "            #count = count+1\n",
    "#print (count) \n",
    "   # print(np_target.shape)\n",
    "    #print(np_target[1][0][1])"
   ]
  },
  {
   "cell_type": "code",
   "execution_count": 13,
   "metadata": {
    "collapsed": false
   },
   "outputs": [
    {
     "name": "stdout",
     "output_type": "stream",
     "text": [
      "[-211.         434.8151864  434.815164     0.           0.       ]\n",
      "[-211.         434.8151864  434.815164     0.           0.       ]\n"
     ]
    }
   ],
   "source": [
    "print(new_target[0])\n",
    "print(np_target[0][0])"
   ]
  },
  {
   "cell_type": "code",
   "execution_count": null,
   "metadata": {
    "collapsed": true
   },
   "outputs": [],
   "source": [
    "count = 0 \n",
    "for i in xrange(1,9):\n",
    "    for j in xrange(1,51):\n",
    "        #if i==8 and j==44:\n",
    "        #    continue\n",
    "        f=h5py.File('/data/kaustuv1993/NewLCD/ChPiEscan_%d_MERGED/ChPiEscan_%d_%d.h5' %(i,i,j), \"r\")\n",
    "        #np_ECAL = np.array(f.get('ECAL'))\n",
    "        np_HCAL = np.array(f.get('HCAL'))\n",
    "        np_target = np.array(f.get('target'))\n",
    "        f.close()\n",
    "        print (np_HCAL.shape, i)\n",
    "        for k in xrange(0,np_target.shape[0]):\n",
    "            if np_target[k][0][0]==0 or np_target[k][0][0]==211 or np_target[k][0][0]==-211 or np_target[k][0][0]==1:#np_target[k][0][0]==11 or np_target[k][0][0]==-11:\n",
    "                print (i, j, k)\n",
    "                count = count+1\n",
    "print (count)        "
   ]
  },
  {
   "cell_type": "code",
   "execution_count": null,
   "metadata": {
    "collapsed": true
   },
   "outputs": [],
   "source": []
  }
 ],
 "metadata": {
  "kernelspec": {
   "display_name": "Python 2",
   "language": "python",
   "name": "python2"
  },
  "language_info": {
   "codemirror_mode": {
    "name": "ipython",
    "version": 2
   },
   "file_extension": ".py",
   "mimetype": "text/x-python",
   "name": "python",
   "nbconvert_exporter": "python",
   "pygments_lexer": "ipython2",
   "version": "2.7.9"
  }
 },
 "nbformat": 4,
 "nbformat_minor": 0
}
