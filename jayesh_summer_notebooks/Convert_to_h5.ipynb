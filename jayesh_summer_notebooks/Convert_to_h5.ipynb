{
 "cells": [
  {
   "cell_type": "code",
   "execution_count": 1,
   "metadata": {
    "collapsed": true
   },
   "outputs": [],
   "source": [
    "# coding: utf-8\n",
    "# Kaustuv Datta and Jayesh Mahaptra, July 2016 & Nikolaus Howe, May 2016\n",
    "# pass in a string of events as a parameter, and it will parse and centre the events\n",
    "\n",
    "import numpy as np\n",
    "import sys\n",
    "import ast\n",
    "import h5py"
   ]
  },
  {
   "cell_type": "code",
   "execution_count": 2,
   "metadata": {
    "collapsed": true
   },
   "outputs": [],
   "source": [
    "# Given a list of distances and corresponding weights, calculate the weighted average\n",
    "def findMidpoint(distance, energy):\n",
    "    return np.average(distance, weights = energy)"
   ]
  },
  {
   "cell_type": "code",
   "execution_count": 3,
   "metadata": {
    "collapsed": true
   },
   "outputs": [],
   "source": [
    "# Given an array of interactions (ix,iy,iz,E,X,Y,Z), returns the weighted average (avex, avey, avez)\n",
    "def findEventMidpoint(event):\n",
    "    xave = findMidpoint(event[:,0], event[:,3]) \n",
    "    yave = findMidpoint(event[:,1], event[:,3]) \n",
    "    zave = findMidpoint(event[:,2], event[:,3]) \n",
    "    return (xave, yave, zave)"
   ]
  },
  {
   "cell_type": "code",
   "execution_count": 4,
   "metadata": {
    "collapsed": true
   },
   "outputs": [],
   "source": [
    "# Check if between bounds\n",
    "def within(value, mymin, mymax):\n",
    "    return (value >= mymin and value <= mymax)"
   ]
  },
  {
   "cell_type": "code",
   "execution_count": 15,
   "metadata": {
    "collapsed": true
   },
   "outputs": [],
   "source": [
    "# Given an event, get the 20x20x25 array of energies around its barycentre\n",
    "def getECALArray(event):\n",
    "    \n",
    "    # Get the event midpoint\n",
    "    midpoint = findEventMidpoint(event)\n",
    "    print midpoint\n",
    "    # Get the limit points for our grid\n",
    "    xmin = midpoint[0] - 10\n",
    "    xmax = midpoint[0] + 10\n",
    "    ymin = midpoint[1] - 10\n",
    "    ymax = midpoint[1] + 10\n",
    "    \n",
    "    # Create the empty array to put the energies in\n",
    "    final_array = np.zeros((20, 20, 25))\n",
    "    \n",
    "    # Fill the array with energy values, if they exist\n",
    "    #for element in event:\n",
    "    #    if within(element[0], xmin, xmax) and within(element[1], ymin, ymax) and within(element[2], zmin, zmax):\n",
    "    #        final_array[element[0], element[1], element[2]] = element[3]\n",
    "  \n",
    "    # Fill the array with energy values, if they exist\n",
    "    for ix, iy, iz, E, x, y, z in event:\n",
    "        if within(ix, xmin, xmax) and within(iy, ymin, ymax):\n",
    "            final_array[ix-xmin,iy-ymin,iz] = E\n",
    "    return final_array"
   ]
  },
  {
   "cell_type": "code",
   "execution_count": 16,
   "metadata": {
    "collapsed": true
   },
   "outputs": [],
   "source": [
    "# Given an event, get the 4x4x60 array of energies around its barycentre\n",
    "def getHCALArray(event):\n",
    "    \n",
    "    # Get the event midpoint\n",
    "    midpoint = findEventMidpoint(event)\n",
    "    print midpoint\n",
    "    # Get the limit points for our grid\n",
    "    xmin = midpoint[0] - 2\n",
    "    xmax = midpoint[0] + 2\n",
    "    ymin = midpoint[1] - 2\n",
    "    ymax = midpoint[1] + 2\n",
    "    \n",
    "    # Create the empty array to put the energies in\n",
    "    final_array = np.zeros((4, 4, 60))\n",
    "    \n",
    "    # Fill the array with energy values, if they exist\n",
    "    #for element in event:\n",
    "    #    if within(element[0], xmin, xmax) and within(element[1], ymin, ymax) and within(element[2], zmin, zmax):\n",
    "    #        final_array[element[0], element[1], element[2]] = element[3]\n",
    "  \n",
    "    # Fill the array with energy values, if they exist\n",
    "    for ix, iy, iz, E, x, y, z in event:\n",
    "        if within(ix, xmin, xmax) and within(iy, ymin, ymax):\n",
    "            final_array[ix-xmin,iy-ymin,iz] = E\n",
    "    return final_array"
   ]
  },
  {
   "cell_type": "code",
   "execution_count": 17,
   "metadata": {
    "collapsed": false
   },
   "outputs": [
    {
     "ename": "IOError",
     "evalue": "[Errno 2] No such file or directory: '-f'",
     "output_type": "error",
     "traceback": [
      "\u001b[1;31m---------------------------------------------------------------------------\u001b[0m",
      "\u001b[1;31mIOError\u001b[0m                                   Traceback (most recent call last)",
      "\u001b[1;32m<ipython-input-17-9b416731e1ea>\u001b[0m in \u001b[0;36m<module>\u001b[1;34m()\u001b[0m\n\u001b[0;32m     19\u001b[0m \u001b[1;32mif\u001b[0m \u001b[0m__name__\u001b[0m \u001b[1;33m==\u001b[0m \u001b[1;34m\"__main__\"\u001b[0m\u001b[1;33m:\u001b[0m\u001b[1;33m\u001b[0m\u001b[0m\n\u001b[0;32m     20\u001b[0m     \u001b[1;32mimport\u001b[0m \u001b[0msys\u001b[0m\u001b[1;33m\u001b[0m\u001b[0m\n\u001b[1;32m---> 21\u001b[1;33m     \u001b[0mconvertFile\u001b[0m\u001b[1;33m(\u001b[0m\u001b[0msys\u001b[0m\u001b[1;33m.\u001b[0m\u001b[0margv\u001b[0m\u001b[1;33m[\u001b[0m\u001b[1;36m1\u001b[0m\u001b[1;33m]\u001b[0m\u001b[1;33m)\u001b[0m\u001b[1;33m\u001b[0m\u001b[0m\n\u001b[0m",
      "\u001b[1;32m<ipython-input-17-9b416731e1ea>\u001b[0m in \u001b[0;36mconvertFile\u001b[1;34m(filename)\u001b[0m\n\u001b[0;32m      1\u001b[0m \u001b[1;32mdef\u001b[0m \u001b[0mconvertFile\u001b[0m\u001b[1;33m(\u001b[0m\u001b[0mfilename\u001b[0m\u001b[1;33m)\u001b[0m\u001b[1;33m:\u001b[0m\u001b[1;33m\u001b[0m\u001b[0m\n\u001b[1;32m----> 2\u001b[1;33m     \u001b[1;32mwith\u001b[0m \u001b[0mopen\u001b[0m\u001b[1;33m(\u001b[0m\u001b[0mfilename\u001b[0m\u001b[1;33m)\u001b[0m \u001b[1;32mas\u001b[0m \u001b[0mmyfile\u001b[0m\u001b[1;33m:\u001b[0m\u001b[1;33m\u001b[0m\u001b[0m\n\u001b[0m\u001b[0;32m      3\u001b[0m         \u001b[0mmy_events_string\u001b[0m \u001b[1;33m=\u001b[0m \u001b[0mmyfile\u001b[0m\u001b[1;33m.\u001b[0m\u001b[0mread\u001b[0m\u001b[1;33m(\u001b[0m\u001b[1;33m)\u001b[0m\u001b[1;33m.\u001b[0m\u001b[0mreplace\u001b[0m\u001b[1;33m(\u001b[0m\u001b[1;34m'\\n'\u001b[0m\u001b[1;33m,\u001b[0m \u001b[1;34m''\u001b[0m\u001b[1;33m)\u001b[0m\u001b[1;33m\u001b[0m\u001b[0m\n\u001b[0;32m      4\u001b[0m     \u001b[0mmy_events\u001b[0m \u001b[1;33m=\u001b[0m \u001b[0mast\u001b[0m\u001b[1;33m.\u001b[0m\u001b[0mliteral_eval\u001b[0m\u001b[1;33m(\u001b[0m\u001b[0mmy_events_string\u001b[0m\u001b[1;33m)\u001b[0m\u001b[1;33m\u001b[0m\u001b[0m\n\u001b[0;32m      5\u001b[0m     \u001b[0mevent_list\u001b[0m \u001b[1;33m=\u001b[0m \u001b[1;33m[\u001b[0m\u001b[1;33m]\u001b[0m\u001b[1;33m\u001b[0m\u001b[0m\n",
      "\u001b[1;31mIOError\u001b[0m: [Errno 2] No such file or directory: '-f'"
     ]
    }
   ],
   "source": [
    "def convertFile(filename):\n",
    "    with open(filename) as myfile:\n",
    "        my_events_string = myfile.read().replace('\\n', '')\n",
    "    my_events = ast.literal_eval(my_events_string)\n",
    "    event_list = []\n",
    "    for event in my_events:\n",
    "        event_list.append( np.array(event) )\n",
    "    energy_array_list = []\n",
    "    for event in event_list:\n",
    "        energy_array_list.append(getEventArray(event))\n",
    "    h5n = filename+'.h5'\n",
    "    print \"creating\",h5n\n",
    "    store = h5py.File(h5n)\n",
    "    e = np.asarray( energy_array_list )\n",
    "    store['images'] = e\n",
    "    print e.shape\n",
    "    store.close()\n",
    "\n",
    "if __name__ == \"__main__\":\n",
    "    import sys\n",
    "    convertFile(sys.argv[1])"
   ]
  },
  {
   "cell_type": "code",
   "execution_count": 18,
   "metadata": {
    "collapsed": false
   },
   "outputs": [],
   "source": [
    "fname = (\"oneEVT.txt\")\n",
    "\n",
    "with open(fname) as file:\n",
    "        events_string = file.read().replace('\\n', '')\n",
    "        my_events = (ast.literal_eval(events_string))"
   ]
  },
  {
   "cell_type": "code",
   "execution_count": 19,
   "metadata": {
    "collapsed": false,
    "scrolled": true
   },
   "outputs": [
    {
     "name": "stdout",
     "output_type": "stream",
     "text": [
      "(0.062626237807806961, -0.04926602204218572, 15.94869333676907)\n"
     ]
    },
    {
     "name": "stderr",
     "output_type": "stream",
     "text": [
      "/usr/local/lib/python2.7/dist-packages/ipykernel/__main__.py:24: VisibleDeprecationWarning: using a non-integer number instead of an integer will result in an error in the future\n"
     ]
    },
    {
     "data": {
      "text/plain": [
       "(20, 20, 25)"
      ]
     },
     "execution_count": 19,
     "metadata": {},
     "output_type": "execute_result"
    }
   ],
   "source": [
    "my_events = ast.literal_eval(events_string)\n",
    "#print(len(my_events['ECAL']))\n",
    "ECAL_list = []\n",
    "for event in my_events['ECAL']:\n",
    "    ECAL_list.append(np.array(event))\n",
    "ECAL_array = np.array(ECAL_list)\n",
    "ECAL_array_list = []\n",
    "#for i in xrange(0, len(events_list)):\n",
    "#    print (ECAL_array[i])\n",
    "ECAL_array_list.append(getECALArray(ECAL_array))\n",
    "ECAL_array_list[0].shape\n",
    "#print(event_array_list)"
   ]
  },
  {
   "cell_type": "code",
   "execution_count": 23,
   "metadata": {
    "collapsed": false,
    "scrolled": true
   },
   "outputs": [
    {
     "name": "stdout",
     "output_type": "stream",
     "text": [
      "(0.073720943616928492, -0.44460627665418018, 1.3249915174741627)\n"
     ]
    },
    {
     "name": "stderr",
     "output_type": "stream",
     "text": [
      "/usr/local/lib/python2.7/dist-packages/ipykernel/__main__.py:24: VisibleDeprecationWarning: using a non-integer number instead of an integer will result in an error in the future\n"
     ]
    },
    {
     "data": {
      "text/plain": [
       "(4, 4, 60)"
      ]
     },
     "execution_count": 23,
     "metadata": {},
     "output_type": "execute_result"
    }
   ],
   "source": [
    "#print(len(my_events['HCAL']))\n",
    "HCAL_list = []\n",
    "for event in my_events['HCAL']:\n",
    "    HCAL_list.append(np.array(event))\n",
    "HCAL_array = np.array(HCAL_list)\n",
    "HCAL_array_list = []\n",
    "#for i in xrange(0, len(events_list)):\n",
    "#    print (ECAL_array[i])\n",
    "HCAL_array_list.append(getHCALArray(HCAL_array))\n",
    "HCAL_array_list[0].shape\n",
    "#print(event_array_list)"
   ]
  },
  {
   "cell_type": "code",
   "execution_count": 21,
   "metadata": {
    "collapsed": false
   },
   "outputs": [
    {
     "name": "stdout",
     "output_type": "stream",
     "text": [
      "(1, 98.99999999999997, [98.99999999999997, 0.0, 0.0])\n"
     ]
    }
   ],
   "source": [
    "#collecting particle ID, energy of hit, and 3-vector of momentum\n",
    "pdgID = my_events['pdgID']\n",
    "if pdgID == 211 or pdgID == 111:\n",
    "    pdgID = 0\n",
    "if pdgID == 22:\n",
    "    pdgID = 1\n",
    "#collecting energy and momentum values from .txt file and converting from MeV to GeV\n",
    "energy = my_events['E']\n",
    "energy = energy/1000.\n",
    "(px, py, pz) = (my_events['px'], my_events['py'], my_events['pz'])\n",
    "(px, py, pz) = (px/1000., py/1000., pz/1000.)\n",
    "p = [px, py, pz]\n",
    "print (pdgID, energy, p)"
   ]
  },
  {
   "cell_type": "code",
   "execution_count": 29,
   "metadata": {
    "collapsed": false
   },
   "outputs": [],
   "source": [
    "f = h5py.File(\"EnergyScan_HCAL_ECAL.h5\", \"w\")\n",
    "target = np.zeros((1, 5))\n",
    "target[:,0], target[:,1], target[:,2], target[:,3], target[:,4] = (pdgID, energy, px, py, pz)\n",
    "f['target'] = target\n",
    "f['ECAL'] = ECAL_array_list[0]\n",
    "f['HCAL'] = HCAL_array_list[0]\n",
    "f.close()"
   ]
  },
  {
   "cell_type": "code",
   "execution_count": 28,
   "metadata": {
    "collapsed": false
   },
   "outputs": [],
   "source": [
    "f.close()"
   ]
  },
  {
   "cell_type": "code",
   "execution_count": 31,
   "metadata": {
    "collapsed": false
   },
   "outputs": [
    {
     "name": "stdout",
     "output_type": "stream",
     "text": [
      "(0.062626237807806961, -0.04926602204218572, 15.94869333676907)\n",
      "(0.073720943616928492, -0.44460627665418018, 1.3249915174741627)\n"
     ]
    },
    {
     "name": "stderr",
     "output_type": "stream",
     "text": [
      "/usr/local/lib/python2.7/dist-packages/ipykernel/__main__.py:24: VisibleDeprecationWarning: using a non-integer number instead of an integer will result in an error in the future\n"
     ]
    }
   ],
   "source": [
    " with open(fname) as myfile:\n",
    "    my_events_string = myfile.read().replace('\\n', '')\n",
    "    my_events = ast.literal_eval(my_events_string)\n",
    "    ECAL_list = []\n",
    "    for event in my_events['ECAL']:\n",
    "        ECAL_list.append(np.array(event))\n",
    "    ECAL_array = np.array(ECAL_list)\n",
    "    ECAL_array_list = []\n",
    "    ECAL_array_list = []\n",
    "    ECAL_array_list.append(getECALArray(ECAL_array))\n",
    "    HCAL_list = []\n",
    "    for event in my_events['HCAL']:\n",
    "        HCAL_list.append(np.array(event))\n",
    "    HCAL_array = np.array(HCAL_list)\n",
    "    HCAL_array_list = []\n",
    "    HCAL_array_list.append(getHCALArray(HCAL_array))\n",
    "    \n",
    "    #collecting particle ID, energy of hit, and 3-vector of momentum\n",
    "    pdgID = my_events['pdgID']\n",
    "    if pdgID == 211 or pdgID == 111:\n",
    "        pdgID = 0\n",
    "    if pdgID == 22:\n",
    "        pdgID = 1\n",
    "    energy = my_events['E']\n",
    "    energy = energy/1000.\n",
    "    (px, py, pz) = (my_events['px'], my_events['py'], my_events['pz'])\n",
    "    (px, py, pz) = (px/1000., py/1000., pz/1000.)\n",
    "    f = h5py.File(\"EnergyScan_HCAL_ECAL.h5\", \"w\")\n",
    "    target = np.zeros((1, 5))\n",
    "    target[:,0], target[:,1], target[:,2], target[:,3], target[:,4] = (pdgID, energy, px, py, pz)\n",
    "    f['target'] = target\n",
    "    f['ECAL'] = ECAL_array_list[0]\n",
    "    f['HCAL'] = HCAL_array_list[0]\n",
    "    f.close()"
   ]
  },
  {
   "cell_type": "code",
   "execution_count": null,
   "metadata": {
    "collapsed": true
   },
   "outputs": [],
   "source": []
  }
 ],
 "metadata": {
  "kernelspec": {
   "display_name": "Python 2",
   "language": "python",
   "name": "python2"
  },
  "language_info": {
   "codemirror_mode": {
    "name": "ipython",
    "version": 2
   },
   "file_extension": ".py",
   "mimetype": "text/x-python",
   "name": "python",
   "nbconvert_exporter": "python",
   "pygments_lexer": "ipython2",
   "version": "2.7.9"
  }
 },
 "nbformat": 4,
 "nbformat_minor": 0
}
