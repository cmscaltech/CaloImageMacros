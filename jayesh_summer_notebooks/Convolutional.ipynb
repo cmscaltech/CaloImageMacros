{
 "cells": [
  {
   "cell_type": "markdown",
   "metadata": {},
   "source": [
    "Notebook for testing convolutional neural nets"
   ]
  },
  {
   "cell_type": "code",
   "execution_count": 1,
   "metadata": {
    "collapsed": false
   },
   "outputs": [
    {
     "name": "stderr",
     "output_type": "stream",
     "text": [
      "Using gpu device 1: GeForce GTX TITAN X (CNMeM is disabled, cuDNN not available)\n",
      "Using Theano backend.\n"
     ]
    },
    {
     "name": "stdout",
     "output_type": "stream",
     "text": [
      "Couldn't import dot_parser, loading of dot files will not be possible.\n"
     ]
    },
    {
     "data": {
      "application/javascript": [
       "require(['codemirror/mode/clike/clike'], function(Clike) { console.log('ROOTaaS - C++ CodeMirror module loaded'); });"
      ]
     },
     "metadata": {},
     "output_type": "display_data"
    },
    {
     "data": {
      "application/javascript": [
       "IPython.CodeCell.config_defaults.highlight_modes['magic_text/x-c++src'] = {'reg':[/^%%cpp/]};"
      ]
     },
     "metadata": {},
     "output_type": "display_data"
    },
    {
     "name": "stdout",
     "output_type": "stream",
     "text": [
      "Welcome to ROOTaaS 6.06/04\n"
     ]
    }
   ],
   "source": [
    "#Import all necessary packages\n",
    "from nn_packages import *\n",
    "from io_functions import *\n",
    "import numpy as np\n",
    "import root_numpy as rnp\n",
    "import os\n",
    "import sys\n",
    "import re\n",
    "import glob\n",
    "import h5py\n",
    "import numpy as np\n",
    "from keras.models import Sequential\n",
    "from keras.layers import Dense, Activation\n",
    "from keras.callbacks import EarlyStopping, ModelCheckpoint"
   ]
  },
  {
   "cell_type": "code",
   "execution_count": null,
   "metadata": {
    "collapsed": false
   },
   "outputs": [],
   "source": [
    "#List of summaries of previously used CNNs to pick a previously used model if need be\n",
    "dir='/home/kaustuv1993/Notebooks/models/'\n",
    "for file in os.listdir(dir):\n",
    "    if file.startswith('cnn'):\n",
    "        print file\n",
    "        json_file = open('%s%s' % (dir,file), 'r')\n",
    "        loaded_model_json = json_file.read()\n",
    "        json_file.close()\n",
    "        model = model_from_json(loaded_model_json)\n",
    "        print (model.summary())\n",
    "        print ('+++++++++++++++++++++++++++++++++++++++++++++++++++++++++++++++++++++++++++++++++++++++++++++++++++++\\n')"
   ]
  },
  {
   "cell_type": "code",
   "execution_count": 2,
   "metadata": {
    "collapsed": false
   },
   "outputs": [
    {
     "name": "stdout",
     "output_type": "stream",
     "text": [
      "____________________________________________________________________________________________________\n",
      "Layer (type)                       Output Shape        Param #     Connected to                     \n",
      "====================================================================================================\n",
      "convolution3d_1 (Convolution3D)    (None, 3, 17, 17, 21243         convolution3d_input_1[0][0]      \n",
      "____________________________________________________________________________________________________\n",
      "maxpooling3d_1 (MaxPooling3D)      (None, 3, 8, 8, 10) 0           convolution3d_1[0][0]            \n",
      "____________________________________________________________________________________________________\n",
      "flatten_1 (Flatten)                (None, 1920)        0           maxpooling3d_1[0][0]             \n",
      "____________________________________________________________________________________________________\n",
      "dense_1 (Dense)                    (None, 1000)        1921000     flatten_1[0][0]                  \n",
      "____________________________________________________________________________________________________\n",
      "dropout_1 (Dropout)                (None, 1000)        0           dense_1[0][0]                    \n",
      "____________________________________________________________________________________________________\n",
      "dense_2 (Dense)                    (None, 1)           1001        dropout_1[0][0]                  \n",
      "====================================================================================================\n",
      "Total params: 1922244\n",
      "____________________________________________________________________________________________________\n"
     ]
    }
   ],
   "source": [
    "#ConvNet - 3D, 6/7\n",
    "cnn3d_1 = Sequential()\n",
    "cnn3d_1.add(Convolution3D(10, 4, 4, 5, input_shape = (1, 20, 20, 25), activation='relu'))\n",
    "cnn3d_1.add(MaxPooling3D())\n",
    "cnn3d_1.add(Flatten())\n",
    "\n",
    "#Dense layer\n",
    "cnn3d_1.add(Dense(1000, activation='relu'))\n",
    "#cnn3d_1.add(Dense(input_dim=(100), output_dim =(1), activation='relu'))\n",
    "cnn3d_1.add(Dropout(0.5))\n",
    "cnn3d_1.add(Dense(1, activation='linear'))\n",
    "#sgd=keras.optimizers.SGD(lr=0.01, momentum=0.0, decay=0.0, nesterov=True)\n",
    "cnn3d_1.compile(loss='mse', optimizer='sgd')\n",
    "#simple.load_weights('first_try.h5')\n",
    "cnn3d_1.summary()"
   ]
  },
  {
   "cell_type": "code",
   "execution_count": 157,
   "metadata": {
    "collapsed": false
   },
   "outputs": [
    {
     "name": "stdout",
     "output_type": "stream",
     "text": [
      "____________________________________________________________________________________________________\n",
      "Layer (type)                       Output Shape        Param #     Connected to                     \n",
      "====================================================================================================\n",
      "dense_15 (Dense)                   (None, 10000)       100010000   dense_input_3[0][0]              \n",
      "____________________________________________________________________________________________________\n",
      "dense_16 (Dense)                   (None, 1)           10001       dense_15[0][0]                   \n",
      "____________________________________________________________________________________________________\n",
      "dense_17 (Dense)                   (None, 1)           2           dense_16[0][0]                   \n",
      "====================================================================================================\n",
      "Total params: 100020003\n",
      "____________________________________________________________________________________________________\n"
     ]
    }
   ],
   "source": [
    "#ConvNet - 2D, 7/7\n",
    "cnn2d_2 = Sequential()\n",
    "#cnn2d_1.add(Convolution2D(10, 4, 4, input_shape = (25, 20, 20), activation='relu'))\n",
    "#cnn2d_1.add(MaxPooling2D())\n",
    "#cnn2d_1.add(Flatten())\n",
    "\n",
    "#Dense layer\n",
    "cnn2d_2.add(Dense(10000,input_shape=(10000,), activation='relu'))\n",
    "cnn2d_2.add(Dense(input_dim=(100), output_dim =(1), activation='relu'))\n",
    "#cnn2d_2.add(Dropout(0.25))\n",
    "cnn2d_2.add(Dense(1, activation='linear'))\n",
    "#sgd=keras.optimizers.SGD(lr=0.01, momentum=0.0, decay=0.0, nesterov=True)\n",
    "cnn2d_2.compile(loss='mse', optimizer='sgd')\n",
    "#simple.load_weights('first_try.h5')\n",
    "cnn2d_2.summary()"
   ]
  },
  {
   "cell_type": "code",
   "execution_count": 13,
   "metadata": {
    "collapsed": false
   },
   "outputs": [],
   "source": [
    "check = ModelCheckpoint(filepath='/model/Dense_test.hdf5', verbose=1)\n",
    "early = EarlyStopping(mon']itor='val_loss', patience=5, verbose=1, mode='auto')"
   ]
  },
  {
   "cell_type": "code",
   "execution_count": null,
   "metadata": {
    "collapsed": false,
    "scrolled": true
   },
   "outputs": [
    {
     "name": "stdout",
     "output_type": "stream",
     "text": [
      "Epoch 1/10\n",
      "40000/40000 [==============================] - 174s - loss: 0.0801 - val_loss: 0.1014\n",
      "Epoch 2/10\n",
      "40000/40000 [==============================] - 104s - loss: 0.1003 - val_loss: 0.0922\n",
      "Epoch 3/10\n",
      "40000/40000 [==============================] - 166s - loss: 0.0917 - val_loss: 0.0816\n",
      "Epoch 4/10\n",
      "40000/40000 [==============================] - 118s - loss: 0.0707 - val_loss: 0.0811\n",
      "Epoch 5/10\n",
      "40000/40000 [==============================] - 158s - loss: 0.0810 - val_loss: 0.0918\n",
      "Epoch 6/10\n",
      "30000/40000 [=====================>........] - ETA: 12s - loss: 0.0745"
     ]
    }
   ],
   "source": [
    "ds = My_Gen_E(10000, 10000)\n",
    "vs = My_Gen_E(10000, 10000)\n",
    "hist_1 = cnn2d_2.fit_generator(ds.train(cnn=False), samples_per_epoch=40000, nb_epoch=10, validation_data= vs.validation(cnn=False), nb_val_samples=40000,verbose=1, callbacks=[early])"
   ]
  },
  {
   "cell_type": "code",
   "execution_count": null,
   "metadata": {
    "collapsed": false
   },
   "outputs": [],
   "source": [
    "#savemodel(cnn2d_1,\"cnn2d_1\")\n",
    "%matplotlib inline\n",
    "show_losses([(\"mse\",hist_1)],\"Dense_test\")"
   ]
  },
  {
   "cell_type": "code",
   "execution_count": 67,
   "metadata": {
    "collapsed": false
   },
   "outputs": [],
   "source": [
    "def test_per_energy(model):\n",
    "    average_mse = []\n",
    "    for i in xrange(10,110):\n",
    "        print (i)\n",
    "        \n",
    "        fn =('/data/kaustuv1993/EnergyScan_Gamma/GammaEscan_%dGeV_fulldataset.h5'%i)\n",
    "        f = h5py.File(fn,'r')\n",
    "        test_data = np.array(f['images'])\n",
    "        test_target=np.array(f['target'])\n",
    "        test_data = np.swapaxes(test_data,1,3)\n",
    "        #test_data= np.reshape(test_data,(10000,0))\n",
    "        test_target = np.delete(test_target,0,1)\n",
    "        pred = model.predict(test_data)\n",
    "        print (pred*110., test_target)\n",
    "        #print([test_target])\n",
    "        #plt.hist( test_target - (np.ravel(pred[1]*110))/test_target[:] , label='energy resolution', bins=40)\n",
    "        #plt.legend()\n",
    "        #plt.show()\n",
    "        #print(pred)\n",
    "        #average_mse.append(pred)\n",
    "    #print (average_mse)"
   ]
  },
  {
   "cell_type": "code",
   "execution_count": 68,
   "metadata": {
    "collapsed": false,
    "scrolled": true
   },
   "outputs": [
    {
     "name": "stdout",
     "output_type": "stream",
     "text": [
      "10\n",
      "10000/10000 [==============================] - 1s     \n",
      "(array([[ 60.02593935],\n",
      "       [ 60.02593935],\n",
      "       [ 60.02593935],\n",
      "       ..., \n",
      "       [ 60.02593935],\n",
      "       [ 60.02593935],\n",
      "       [ 60.02593935]]), array([[  67.],\n",
      "       [  29.],\n",
      "       [  71.],\n",
      "       ..., \n",
      "       [ 109.],\n",
      "       [  31.],\n",
      "       [ 109.]]))\n",
      "11\n",
      "10000/10000 [==============================] - 1s     \n",
      "(array([[ 60.02593935],\n",
      "       [ 60.02593935],\n",
      "       [ 60.02593935],\n",
      "       ..., \n",
      "       [ 60.02593935],\n",
      "       [ 60.02593935],\n",
      "       [ 60.02593935]]), array([[ 37.],\n",
      "       [ 86.],\n",
      "       [ 96.],\n",
      "       ..., \n",
      "       [ 68.],\n",
      "       [ 73.],\n",
      "       [ 37.]]))\n"
     ]
    }
   ],
   "source": [
    "test_per_energy(cnn2d_1)"
   ]
  },
  {
   "cell_type": "code",
   "execution_count": 69,
   "metadata": {
    "collapsed": false
   },
   "outputs": [],
   "source": [
    "loss = np.array(hist_1.history['loss'])\n",
    "valoss = np.array(hist_1.history['val_loss'])\n",
    "f = h5py.File(\"cnn2d_1.h5\",\"r+\")\n",
    "f.create_dataset('loss',data=loss)\n",
    "f.create_dataset('val_loss',data=valoss)\n",
    "f.close()\n",
    "#print (np.array(f['val_loss']))\n",
    "#print (np.array(f['loss']))"
   ]
  },
  {
   "cell_type": "code",
   "execution_count": 75,
   "metadata": {
    "collapsed": false
   },
   "outputs": [
    {
     "ename": "IndexError",
     "evalue": "only integers, slices (`:`), ellipsis (`...`), numpy.newaxis (`None`) and integer or boolean arrays are valid indices",
     "output_type": "error",
     "traceback": [
      "\u001b[1;31m---------------------------------------------------------------------------\u001b[0m",
      "\u001b[1;31mIndexError\u001b[0m                                Traceback (most recent call last)",
      "\u001b[1;32m<ipython-input-75-38432d1c1d90>\u001b[0m in \u001b[0;36m<module>\u001b[1;34m()\u001b[0m\n\u001b[0;32m      1\u001b[0m \u001b[0mdata\u001b[0m\u001b[1;33m=\u001b[0m\u001b[0mnp\u001b[0m\u001b[1;33m.\u001b[0m\u001b[0marray\u001b[0m\u001b[1;33m(\u001b[0m\u001b[0mget_dataset\u001b[0m\u001b[1;33m(\u001b[0m\u001b[1;34m'/data/kaustuv1993/EnergyScan_Gamma/GammaEscan_*GeV_fulldataset'\u001b[0m\u001b[1;33m)\u001b[0m\u001b[1;33m)\u001b[0m\u001b[1;33m\u001b[0m\u001b[0m\n\u001b[1;32m----> 2\u001b[1;33m \u001b[0mdata\u001b[0m\u001b[1;33m[\u001b[0m\u001b[1;34m'images'\u001b[0m\u001b[1;33m]\u001b[0m\u001b[1;33m\u001b[0m\u001b[0m\n\u001b[0m",
      "\u001b[1;31mIndexError\u001b[0m: only integers, slices (`:`), ellipsis (`...`), numpy.newaxis (`None`) and integer or boolean arrays are valid indices"
     ]
    },
    {
     "name": "stderr",
     "output_type": "stream",
     "text": [
      "\r\n",
      "tab completion not implemented for this context\r\n"
     ]
    }
   ],
   "source": [
    "data=np.array(get_dataset('/data/kaustuv1993/EnergyScan_Gamma/GammaEscan_*GeV_fulldataset'))\n",
    "data[]"
   ]
  },
  {
   "cell_type": "code",
   "execution_count": 76,
   "metadata": {
    "collapsed": false
   },
   "outputs": [
    {
     "ename": "TypeError",
     "evalue": "predict() takes at least 2 arguments (1 given)",
     "output_type": "error",
     "traceback": [
      "\u001b[1;31m---------------------------------------------------------------------------\u001b[0m",
      "\u001b[1;31mTypeError\u001b[0m                                 Traceback (most recent call last)",
      "\u001b[1;32m<ipython-input-76-e11544ba09c9>\u001b[0m in \u001b[0;36m<module>\u001b[1;34m()\u001b[0m\n\u001b[1;32m----> 1\u001b[1;33m \u001b[0mpred\u001b[0m\u001b[1;33m=\u001b[0m\u001b[0mcnn2d_1\u001b[0m\u001b[1;33m.\u001b[0m\u001b[0mpredict\u001b[0m\u001b[1;33m(\u001b[0m\u001b[1;33m)\u001b[0m\u001b[1;33m\u001b[0m\u001b[0m\n\u001b[0m",
      "\u001b[1;31mTypeError\u001b[0m: predict() takes at least 2 arguments (1 given)"
     ]
    }
   ],
   "source": [
    "pred=cnn2d_1.predict()"
   ]
  },
  {
   "cell_type": "code",
   "execution_count": 89,
   "metadata": {
    "collapsed": false
   },
   "outputs": [],
   "source": [
    "def add(n, v ,e ):\n",
    "    if n==None:\n",
    "        return\n",
    "    if add.A==None:\n",
    "        add.A = n\n",
    "    else:\n",
    "        add.A = np.concatenate( (add.A,n) )\n",
    "    \n",
    "    \n",
    "    ny = np.zeros( (n.shape[0], 2))\n",
    "    ny[:,0] = bool(v)\n",
    "    ny[:,1] = e\n",
    "    \n",
    "    if add.Y==None:\n",
    "        add.Y = ny\n",
    "    else:\n",
    "        add.Y = np.concatenate( (add.Y, ny) )"
   ]
  },
  {
   "cell_type": "code",
   "execution_count": 142,
   "metadata": {
    "collapsed": false,
    "scrolled": true
   },
   "outputs": [
    {
     "name": "stdout",
     "output_type": "stream",
     "text": [
      "100\n",
      "init\n",
      "(10000, 20, 20, 25)\n",
      "101\n",
      "init\n",
      "(10000, 20, 20, 25)"
     ]
    },
    {
     "name": "stderr",
     "output_type": "stream",
     "text": [
      "/usr/local/lib/python2.7/dist-packages/ipykernel/__main__.py:2: FutureWarning: comparison to `None` will result in an elementwise object comparison in the future.\n",
      "  from ipykernel import kernelapp as app\n",
      "/usr/local/lib/python2.7/dist-packages/ipykernel/__main__.py:4: FutureWarning: comparison to `None` will result in an elementwise object comparison in the future.\n"
     ]
    },
    {
     "name": "stdout",
     "output_type": "stream",
     "text": [
      "\n",
      "102\n",
      "init\n",
      "(10000, 20, 20, 25)\n",
      "103\n",
      "init\n",
      "(10000, 20, 20, 25)\n",
      "104\n",
      "init\n",
      "(10000, 20, 20, 25)\n",
      "105\n",
      "init\n",
      "(10000, 20, 20, 25)\n",
      "106\n",
      "init\n",
      "(10000, 20, 20, 25)\n",
      "107\n",
      "init\n",
      "(10000, 20, 20, 25)\n",
      "108\n",
      "init\n",
      "(10000, 20, 20, 25)\n",
      "109\n",
      "init\n",
      "(10000, 20, 20, 25)"
     ]
    },
    {
     "name": "stderr",
     "output_type": "stream",
     "text": [
      "/usr/local/lib/python2.7/dist-packages/ipykernel/__main__.py:14: FutureWarning: comparison to `None` will result in an elementwise object comparison in the future.\n"
     ]
    },
    {
     "name": "stdout",
     "output_type": "stream",
     "text": [
      "\n"
     ]
    }
   ],
   "source": [
    "add.A = None\n",
    "add.Y = None\n",
    "for energy in range(100,110):\n",
    "    print energy\n",
    "    s = get_dataset('/data/shared/LCD/GammaEscan/GammaEscan_*_%dGeV'%energy)\n",
    "    #b = get_dataset('/data/vlimant/LCD/Pi0%dGeV'%energy)\n",
    "    add( s, 1, energy)\n",
    "    #add( b, False, energy)\n",
    "    #print sigs[energy].shape\n",
    "    #print bkgs[energy].shape\n",
    "X = add.A\n",
    "y = add.Y"
   ]
  },
  {
   "cell_type": "code",
   "execution_count": 143,
   "metadata": {
    "collapsed": false
   },
   "outputs": [
    {
     "name": "stdout",
     "output_type": "stream",
     "text": [
      "((100000, 20, 20, 25), (100000, 2))\n"
     ]
    }
   ],
   "source": [
    "print (X.shape, y.shape)"
   ]
  },
  {
   "cell_type": "code",
   "execution_count": 144,
   "metadata": {
    "collapsed": false
   },
   "outputs": [
    {
     "data": {
      "image/png": "[encoded data removed]",
      "text/plain": [
       "<matplotlib.figure.Figure at 0x7fccdc29a4d0>"
      ]
     },
     "metadata": {},
     "output_type": "display_data"
    },
    {
     "data": {
      "image/png": "[encoded data removed]",
      "text/plain": [
       "<matplotlib.figure.Figure at 0x7fccde6dbe90>"
      ]
     },
     "metadata": {},
     "output_type": "display_data"
    },
    {
     "data": {
      "image/png": "[encoded data removed]",
      "text/plain": [
       "<matplotlib.figure.Figure at 0x7fccde5abfd0>"
      ]
     },
     "metadata": {},
     "output_type": "display_data"
    }
   ],
   "source": [
    "%matplotlib inline\n",
    "import matplotlib.pyplot as plt\n",
    "plt.hist(y[:,0], label='label')\n",
    "plt.legend()\n",
    "plt.show()\n",
    "plt.hist(y[:,1], label='energy')\n",
    "plt.legend()\n",
    "plt.show()\n",
    "plt.hist2d(y[:,0],y[:,1], label='data')\n",
    "plt.legend()\n",
    "plt.colorbar()\n",
    "plt.show()"
   ]
  },
  {
   "cell_type": "code",
   "execution_count": 145,
   "metadata": {
    "collapsed": false
   },
   "outputs": [],
   "source": [
    "x=np.swapaxes(X,1,3)"
   ]
  },
  {
   "cell_type": "code",
   "execution_count": 146,
   "metadata": {
    "collapsed": false
   },
   "outputs": [
    {
     "data": {
      "text/plain": [
       "(100000, 25, 20, 20)"
      ]
     },
     "execution_count": 146,
     "metadata": {},
     "output_type": "execute_result"
    }
   ],
   "source": [
    "X.shape"
   ]
  },
  {
   "cell_type": "code",
   "execution_count": 169,
   "metadata": {
    "collapsed": false
   },
   "outputs": [
    {
     "name": "stdout",
     "output_type": "stream",
     "text": [
      "[[ 0.39933881]\n",
      " [ 0.39933881]\n",
      " [ 0.39933881]\n",
      " ..., \n",
      " [ 0.39933881]\n",
      " [ 0.39933881]\n",
      " [ 0.39933881]]\n"
     ]
    }
   ],
   "source": [
    "pred = cnn2d_2.predict_on_batch(X.reshape(X.shape[0],10000))\n",
    "print (pred)"
   ]
  },
  {
   "cell_type": "code",
   "execution_count": 148,
   "metadata": {
    "collapsed": false
   },
   "outputs": [
    {
     "data": {
      "text/plain": [
       "(1, 25, 20, 20)"
      ]
     },
     "execution_count": 148,
     "metadata": {},
     "output_type": "execute_result"
    }
   ],
   "source": [
    "x[1,...].reshape((1,25,20,20)).shape"
   ]
  },
  {
   "cell_type": "code",
   "execution_count": 170,
   "metadata": {
    "collapsed": false
   },
   "outputs": [
    {
     "data": {
      "text/plain": [
       "array([ 0.39933881,  0.39933881,  0.39933881, ...,  0.39933881,\n",
       "        0.39933881,  0.39933881], dtype=float32)"
      ]
     },
     "execution_count": 170,
     "metadata": {},
     "output_type": "execute_result"
    }
   ],
   "source": [
    "np.ravel(pred)"
   ]
  },
  {
   "cell_type": "code",
   "execution_count": 163,
   "metadata": {
    "collapsed": false,
    "scrolled": true
   },
   "outputs": [
    {
     "name": "stdout",
     "output_type": "stream",
     "text": [
      "(array([ 0.39933881]), array([100000]))\n"
     ]
    }
   ],
   "source": [
    "u, count = np.unique(pred, return_counts=True)\n",
    "print (u, count)"
   ]
  },
  {
   "cell_type": "code",
   "execution_count": null,
   "metadata": {
    "collapsed": true
   },
   "outputs": [],
   "source": [
    "ds = My_Gen_E(10000, 10000)\n",
    "#vs = My_Gen_E(10000,10000)\n",
    "#count = 0\n",
    "#print(len(ds.filelist))\n",
    "for (data, target) in ds.train():\n",
    "    #print('count is ',count)\n",
    "    #code to check for unique rows in the data\n",
    "    ncols = data.shape[1]\n",
    "    dtype = data.dtype.descr * ncols\n",
    "    struct = data.view(dtype)\n",
    "    uniq = np.unique(struct)\n",
    "    uniq = uniq.view(data.dtype).reshape(-1, ncols)\n",
    "    #code to check for the number of unique rows (energy) in targets\n",
    "    count2 = np.unique(target, return_counts=True)[1]\n",
    "    print(uniq.shape[0],count2.shape[0])"
   ]
  }
 ],
 "metadata": {
  "kernelspec": {
   "display_name": "Python 2",
   "language": "python",
   "name": "python2"
  },
  "language_info": {
   "codemirror_mode": {
    "name": "ipython",
    "version": 2
   },
   "file_extension": ".py",
   "mimetype": "text/x-python",
   "name": "python",
   "nbconvert_exporter": "python",
   "pygments_lexer": "ipython2",
   "version": "2.7.9"
  }
 },
 "nbformat": 4,
 "nbformat_minor": 0
}
