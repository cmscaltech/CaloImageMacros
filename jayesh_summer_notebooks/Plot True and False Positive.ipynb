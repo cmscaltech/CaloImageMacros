{
 "cells": [
  {
   "cell_type": "code",
   "execution_count": 2,
   "metadata": {
    "collapsed": false
   },
   "outputs": [
    {
     "name": "stderr",
     "output_type": "stream",
     "text": [
      "Using gpu device 0: GeForce GTX TITAN X (CNMeM is disabled, cuDNN 5005)\n",
      "Using Theano backend.\n"
     ]
    },
    {
     "name": "stdout",
     "output_type": "stream",
     "text": [
      "Couldn't import dot_parser, loading of dot files will not be possible.\n"
     ]
    },
    {
     "data": {
      "application/javascript": [
       "require(['codemirror/mode/clike/clike'], function(Clike) { console.log('ROOTaaS - C++ CodeMirror module loaded'); });"
      ]
     },
     "metadata": {},
     "output_type": "display_data"
    },
    {
     "data": {
      "application/javascript": [
       "IPython.CodeCell.config_defaults.highlight_modes['magic_text/x-c++src'] = {'reg':[/^%%cpp/]};"
      ]
     },
     "metadata": {},
     "output_type": "display_data"
    },
    {
     "name": "stderr",
     "output_type": "stream",
     "text": [
      "/usr/local/lib/python2.7/dist-packages/root_numpy/__init__.py:35: RuntimeWarning: numpy 1.11.1 is currently installed but you installed root_numpy against numpy 1.11.0. Please consider reinstalling root_numpy for this numpy version.\n",
      "  RuntimeWarning)\n"
     ]
    },
    {
     "name": "stdout",
     "output_type": "stream",
     "text": [
      "Welcome to ROOTaaS 6.06/04\n"
     ]
    }
   ],
   "source": [
    "from nn_packages import *\n",
    "from io_functions import *\n",
    "import numpy as np\n",
    "import root_numpy as rnp\n",
    "import matplotlib.pyplot as plt\n",
    "import os\n",
    "import sys\n",
    "import re\n",
    "import glob\n",
    "import h5py\n",
    "import numpy as np\n",
    "#import keras\n",
    "from keras.models import Sequential\n",
    "from keras.layers import Dense, Activation\n",
    "from keras.callbacks import EarlyStopping, ModelCheckpoint\n",
    "from sklearn import metrics\n",
    "%matplotlib inline"
   ]
  },
  {
   "cell_type": "code",
   "execution_count": 3,
   "metadata": {
    "collapsed": false
   },
   "outputs": [],
   "source": [
    "def accuracy_measure(y_actual, y_hat):\n",
    "    TruePositive = 0\n",
    "    FalsePositive = 0\n",
    "    TrueNegative = 0\n",
    "    FalseNegative = 0\n",
    "\n",
    "    for i in range(0, len(y_hat)): \n",
    "        if y_actual[i]==y_hat[i]==1:\n",
    "            TruePositive += 1\n",
    "        elif y_actual[i]==0 and y_actual[i]!=y_hat[i]:\n",
    "            FalsePositive += 1\n",
    "        elif y_actual[i]==y_hat[i]==0:\n",
    "            TrueNegative += 1\n",
    "        elif y_actual[i]==1 and y_actual[i]!=y_hat[i]:\n",
    "            FalseNegative += 1\n",
    "    return(TruePositive, FalsePositive, TrueNegative, FalseNegative)"
   ]
  },
  {
   "cell_type": "code",
   "execution_count": null,
   "metadata": {
    "collapsed": false
   },
   "outputs": [],
   "source": [
    "# Load the models' predictions and histories\n",
    "#predictions = {}\n",
    "#histories = {}\n",
    "tp_list=[]\n",
    "fp_list=[]\n",
    "tn_list=[]\n",
    "fn_list=[]\n",
    "for l in filter(None, os.popen('ls /home/nhowe/Notebooks/models/*.json').read().split('\\n')):\n",
    "    #m_name = l.split('/')[-1].split('.')[0]\n",
    "    m_name = 'conv100'\n",
    "    # Load model information\n",
    "    model, history, prediction = load_model(m_name)\n",
    "    #predictions[m_name] = prediction\n",
    "    #histories[m_name] = history\n",
    "    for i in xrange(10,11):\n",
    "        print (i)\n",
    "        fn1 =('/data/kaustuv1993/GammaEscan_fulldatasets/GammaEscan_%dGeV_fulldataset.h5'%i)\n",
    "        fn2 =('/data/kaustuv1993/EnergyScan_Pi0/Pi0Escan_%dGeV_fulldataset.h5'%i)\n",
    "        f1 = h5py.File(fn1,'r')\n",
    "        f2 = h5py.File(fn2,'r')\n",
    "        test_data = np.concatenate((np.array(f1['images']),np.array(f2['images'])))\n",
    "        test_target = np.concatenate((np.array(f1['target']),np.array(f2['target'])))\n",
    "        f1.close()\n",
    "        f2.close()\n",
    "        predicted_target = model.predict(test_data)\n",
    "        TruePositive, FalsePositive, TrueNegative, FalseNegative = accuracy_measure(test_target, predicted_target)\n",
    "        tp_list.append(TruePositive)\n",
    "        fp_list.append(FalsePositive)\n",
    "        tn_list.append(TrueNegative)\n",
    "        fn_list.append(FalseNegative)\n",
    "    plt.plot((tp_list,fp_list),np.arange(10,111))\n",
    "    break"
   ]
  },
  {
   "cell_type": "code",
   "execution_count": null,
   "metadata": {
    "collapsed": false
   },
   "outputs": [],
   "source": [
    "# Load the models' predictions and histories\n",
    "#predictions = {}\n",
    "#histories = {}\n",
    "tp_total = []\n",
    "fp_total = []\n",
    "tn_total = []\n",
    "fn_total = []\n",
    "model_names = []\n",
    "mc = 0\n",
    "tp_list = []\n",
    "fp_list = []\n",
    "tn_list = []\n",
    "fn_list = []\n",
    "flag = True\n",
    "m_name = 'conv100'\n",
    "model_names.append(m_name)   \n",
    "    # Load model information\n",
    "model, history, prediction = load_model(m_name)\n",
    "\n",
    "for i in xrange(100,101):\n",
    "    print (i)\n",
    "    fn1 =('/data/kaustuv1993/GammaEscan_fulldatasets/GammaEscan_%dGeV_fulldataset.h5'%i)\n",
    "    fn2 =('/data/kaustuv1993/EnergyScan_Pi0/Pi0Escan_%dGeV_fulldataset.h5'%i)\n",
    "    f1 = h5py.File(fn1,'r')\n",
    "    f2 = h5py.File(fn2,'r')\n",
    "    test_data = np.concatenate((np.array(f1['images']),np.array(f2['images'])))\n",
    "    test_target = np.concatenate((np.array(f1['target']),np.array(f2['target'])))\n",
    "    f1.close()\n",
    "    f2.close()\n",
    "    test_data = test_data.reshape((test_data.shape[0],)+(1, 20, 20, 25))\n",
    "    predicted_target = model.predict(test_data)\n",
    "    print (predicted_target.shape, test_target.shape)\n",
    "    fpr,tpr,thresholds = metrics.roc_curve(test_target[:,0],predicted_target,pos_label=1)\n",
    "        \n",
    "    "
   ]
  },
  {
   "cell_type": "code",
   "execution_count": null,
   "metadata": {
    "collapsed": false
   },
   "outputs": [],
   "source": [
    "thresholds"
   ]
  },
  {
   "cell_type": "code",
   "execution_count": null,
   "metadata": {
    "collapsed": false
   },
   "outputs": [],
   "source": [
    "thresholds.shape[0]"
   ]
  },
  {
   "cell_type": "code",
   "execution_count": null,
   "metadata": {
    "collapsed": false
   },
   "outputs": [],
   "source": [
    "test_target[:,0]"
   ]
  },
  {
   "cell_type": "code",
   "execution_count": null,
   "metadata": {
    "collapsed": false
   },
   "outputs": [],
   "source": [
    "predicted_target"
   ]
  },
  {
   "cell_type": "code",
   "execution_count": null,
   "metadata": {
    "collapsed": false
   },
   "outputs": [],
   "source": [
    "index = np.where(tpr>=0.95)"
   ]
  },
  {
   "cell_type": "code",
   "execution_count": null,
   "metadata": {
    "collapsed": false
   },
   "outputs": [],
   "source": [
    "tpr[index]"
   ]
  },
  {
   "cell_type": "code",
   "execution_count": null,
   "metadata": {
    "collapsed": false
   },
   "outputs": [],
   "source": [
    "thresholds[index]"
   ]
  },
  {
   "cell_type": "code",
   "execution_count": 4,
   "metadata": {
    "collapsed": true
   },
   "outputs": [],
   "source": [
    "# Load the models' predictions and histories\n",
    "def model_performance():\n",
    "\n",
    "    tp_total = []\n",
    "    fp_total = []\n",
    "    tn_total = []\n",
    "    fn_total = []\n",
    "    model_names = []\n",
    "    mc = 0\n",
    "    for l in filter(None, os.popen('ls /home/nhowe/Notebooks/models/*.json').read().split('\\n')):\n",
    "\n",
    "        tp_list = []\n",
    "        fp_list = []\n",
    "        tn_list = []\n",
    "        fn_list = []\n",
    "        flag = True\n",
    "        m_name = l.split('/')[-1].split('.')[0]\n",
    "        print (mc+1, m_name)\n",
    "\n",
    "        if not (m_name.startswith(\"bcnn\")):\n",
    "            continue\n",
    "        #if \"conv2D\" not in m_name:\n",
    "        #    continue\n",
    "\n",
    "        model_names.append(m_name)   \n",
    "        # Load model information\n",
    "        model, history, prediction = load_model(m_name)\n",
    "        #model.summary()\n",
    "        #Finding the threshold at 100GeV\n",
    "        \n",
    "        fn1 =('/data/kaustuv1993/GammaEscan_fulldatasets/GammaEscan_100GeV_fulldataset.h5')\n",
    "        fn2 =('/data/kaustuv1993/EnergyScan_Pi0/Pi0Escan_100GeV_fulldataset.h5')\n",
    "        f1 = h5py.File(fn1,'r')\n",
    "        f2 = h5py.File(fn2,'r')\n",
    "        test_data = np.concatenate((np.array(f1['images']),np.array(f2['images'])))\n",
    "        test_target = np.concatenate(((np.array(f1['target']),np.array(f2['target']))))\n",
    "        f1.close()\n",
    "        f2.close()\n",
    "        #Shaping the input data\n",
    "        #if m_name==\"dense10\":\n",
    "           # predicted_target = model.predict(test_data)\n",
    "\n",
    "        #if m_name==\"dense10000\":\n",
    "            #test_data = test_data.reshape((test_data.shape[0],)+(10000,))\n",
    "            #predicted_target = model.predict(test_data)\n",
    "\n",
    "        #if \"conv2D\" in m_name and \"conv\" in m_name:\n",
    "            #test_data = test_data.reshape((test_data.shape[0],)+(25, 20, 20))\n",
    "            #predicted_target = model.predict(test_data)\n",
    "        if \"bcnn\" in m_name:\n",
    "            test_data = test_data.reshape((test_data.shape[0],)+(1, 20, 20, 25))\n",
    "            predicted_target = model.predict([test_data, test_data, test_data])\n",
    "        #if \"scnn\" in m_name or \"conv\" in m_name and \"conv2D\" not in m_name:\n",
    "            #test_data = test_data.reshape((test_data.shape[0],)+(1, 20, 20, 25))\n",
    "            #predicted_target = model.predict(test_data)\n",
    "        #Finding the threshold where true positive >= 95\n",
    "        print (predicted_target.shape, test_target.shape)\n",
    "        fpr,tpr,thresholds = metrics.roc_curve(test_target[:,0],predicted_target,pos_label=1)\n",
    "        index = np.where(tpr>=0.95)\n",
    "        threshold = thresholds[index][0]\n",
    "        #Scanning across all energies to get true positive and false positive rates for the selected thresholds\n",
    "        for i in xrange(10,111):\n",
    "            print (i)\n",
    "            fn1 =('/data/kaustuv1993/GammaEscan_fulldatasets/GammaEscan_%dGeV_fulldataset.h5'%i)\n",
    "            fn2 =('/data/kaustuv1993/EnergyScan_Pi0/Pi0Escan_%dGeV_fulldataset.h5'%i)\n",
    "            f1 = h5py.File(fn1,'r')\n",
    "            f2 = h5py.File(fn2,'r')\n",
    "            test_data = np.concatenate((np.array(f1['images']),np.array(f2['images'])))\n",
    "            test_target = np.concatenate(((np.array(f1['target']),np.array(f2['target']))))\n",
    "            f1.close()\n",
    "            f2.close()\n",
    "            #if big_conv in m_name:\n",
    "\n",
    "            #if m_name!=\"dense10000\" and \"big_conv\" in m_name or \"dense1000\" in m_name or \"dense100\" in m_name:\n",
    "            #    flag = False\n",
    "            #    break\n",
    "\n",
    "            #if m_name==\"dense10\":\n",
    "                #predicted_target = model.predict(test_data)\n",
    "\n",
    "            #if m_name==\"dense10000\":\n",
    "                #test_data = test_data.reshape((test_data.shape[0],)+(10000,))\n",
    "                #predicted_target = model.predict(test_data)\n",
    "\n",
    "            #if \"conv2D\" in m_name and \"conv\" in m_name:\n",
    "                #test_data = test_data.reshape((test_data.shape[0],)+(25, 20, 20))\n",
    "                #predicted_target = model.predict(test_data)\n",
    "\n",
    "            if \"bcnn\" in m_name:\n",
    "                test_data = test_data.reshape((test_data.shape[0],)+(1, 20, 20, 25))\n",
    "                predicted_target = model.predict([test_data, test_data, test_data])\n",
    "\n",
    "            #if \"scnn\" in m_name or \"conv\" in m_name and \"conv2D\" not in m_name:\n",
    "                #test_data = test_data.reshape((test_data.shape[0],)+(1, 20, 20, 25))\n",
    "                #predicted_target = model.predict(test_data)\n",
    "\n",
    "            print (predicted_target.shape, test_target.shape)\n",
    "            for i in xrange(0, len(predicted_target)):\n",
    "                if(predicted_target[i]>= threshold):\n",
    "                    predicted_target[i]=1\n",
    "                else:\n",
    "                    predicted_target[i]=0\n",
    "\n",
    "            TruePositive, FalsePositive, TrueNegative, FalseNegative = accuracy_measure(test_target[:,0], predicted_target)\n",
    "            tp_list.append(TruePositive)\n",
    "            fp_list.append(FalsePositive)\n",
    "            tn_list.append(TrueNegative)\n",
    "            fn_list.append(FalseNegative)\n",
    "\n",
    "        #print (len(tp_list), len(fp_list))\n",
    "        if flag==True:\n",
    "            tp_total.append(tp_list)\n",
    "            fp_total.append(fp_list)\n",
    "            tn_total.append(tn_list)\n",
    "            fn_total.append(fn_list)    \n",
    "\n",
    "            ftp = (\"/home/jayesh/Notebooks/Predictions/\"+model_names[mc]+\"pred_tp\")\n",
    "            ffp = (\"/home/jayesh/Notebooks/Predictions/\"+model_names[mc]+\"pred_fp\")\n",
    "            ftn = (\"/home/jayesh/Notebooks/Predictions/\"+model_names[mc]+\"pred_tn\")\n",
    "            ffn = (\"/home/jayesh/Notebooks/Predictions/\"+model_names[mc]+\"pred_fn\")\n",
    "\n",
    "            np.save(ftp, np.array(tp_total[mc]))\n",
    "            np.save(ffp, np.array(fp_total[mc]))\n",
    "            np.save(ftn, np.array(tn_total[mc]))\n",
    "            np.save(ffn, np.array(fn_total[mc]))\n",
    "            mc+=1\n",
    "    return"
   ]
  },
  {
   "cell_type": "code",
   "execution_count": null,
   "metadata": {
    "collapsed": false
   },
   "outputs": [],
   "source": [
    "model_performance()"
   ]
  },
  {
   "cell_type": "code",
   "execution_count": null,
   "metadata": {
    "collapsed": false
   },
   "outputs": [],
   "source": [
    "%matplotlib inline\n",
    "model_names = []\n",
    "for l in filter(None, os.popen('ls /home/jayesh/Notebooks/Predictions/*_tp.npy').read().split('\\n')):\n",
    "    m_name = l.split('/')[-1].split('pred')[0]\n",
    "    #if m_name!='bcnn10000' or m_name!='bcnn1000':\n",
    "        #continue\n",
    "    model_names.append(m_name)\n",
    "count = 1\n",
    "en = np.arange(95,106)\n",
    "plt.figure(figsize=(12,10))\n",
    "for l in filter(None, os.popen('ls /home/jayesh/Notebooks/Predictions/*_tp.npy').read().split('\\n')):\n",
    "    m_name = l.split('/')[-1].split('pred')[0]\n",
    "    color = tuple(np.random.random(3))\n",
    "    count+=1\n",
    "    #if m_name!='bcnn10000' or m_name!='bcnn1000':\n",
    "        #continue\n",
    "    print (m_name)\n",
    "    tp = np.load(l)\n",
    "    print (np.unique(tp))\n",
    "    tp = tp/10000.\n",
    "    plt.plot(en, tp, color=color)\n",
    "    plt.legend(model_names, loc = 'best', fontsize = 14)\n",
    "    plt.xlabel(\"Energy (GeV)\", fontsize = 20)\n",
    "    plt.ylabel(\"True Positive Rate\", fontsize = 20)\n",
    "    plt.rc('xtick', labelsize = 16)\n",
    "    plt.rc('ytick', labelsize = 16)\n",
    "    plt.title(\"Energy Scan Classification Model Performances\", fontsize=22)\n",
    "    #plt.ylim(-0.005, 1.0)\n",
    "    #plt.xlim(5., 115.)\n",
    "    plt.gca().xaxis.grid(True)\n",
    "    plt.gca().yaxis.grid(True)\n",
    "    #raw_input()\n",
    "    #plt.legend(m_name)\n",
    "    #if count==9:\n",
    "    #    break\n",
    "plt.savefig(\"Energy Scan Classification Model Performances.png\")     "
   ]
  },
  {
   "cell_type": "code",
   "execution_count": null,
   "metadata": {
    "collapsed": false
   },
   "outputs": [],
   "source": [
    "if not (False):\n",
    "    print('Hello')"
   ]
  },
  {
   "cell_type": "code",
   "execution_count": 2,
   "metadata": {
    "collapsed": true
   },
   "outputs": [],
   "source": [
    "m_name = 'big_conv'  \n",
    "model, history, prediction = load_model(m_name)"
   ]
  },
  {
   "cell_type": "code",
   "execution_count": 5,
   "metadata": {
    "collapsed": false
   },
   "outputs": [
    {
     "name": "stdout",
     "output_type": "stream",
     "text": [
      "____________________________________________________________________________________________________\n",
      "Layer (type)                     Output Shape          Param #     Connected to                     \n",
      "====================================================================================================\n",
      "Input Layer (InputLayer)         (None, 1, 20, 20, 25) 0                                            \n",
      "____________________________________________________________________________________________________\n",
      "(3, 3, 4) 3D Conv, B0 L0 (Convolu(None, 3, 18, 18, 22) 111         Input Layer[0][0]                \n",
      "____________________________________________________________________________________________________\n",
      "(4, 4, 5) 3D Conv, B1 L0 (Convolu(None, 3, 17, 17, 21) 243         Input Layer[0][0]                \n",
      "____________________________________________________________________________________________________\n",
      "(4, 4, 5) 3D Conv, B0 L1 (Convolu(None, 3, 15, 15, 18) 723         (3, 3, 4) 3D Conv, B0 L0[0][0]   \n",
      "____________________________________________________________________________________________________\n",
      "(5, 5, 6) 3D Conv, B1 L1 (Convolu(None, 3, 13, 13, 16) 1353        (4, 4, 5) 3D Conv, B1 L0[0][0]   \n",
      "____________________________________________________________________________________________________\n",
      "MaxPooling3D, B0 (MaxPooling3D)  (None, 3, 7, 7, 9)    0           (4, 4, 5) 3D Conv, B0 L1[0][0]   \n",
      "____________________________________________________________________________________________________\n",
      "MaxPooling3D, B1 (MaxPooling3D)  (None, 3, 6, 6, 8)    0           (5, 5, 6) 3D Conv, B1 L1[0][0]   \n",
      "____________________________________________________________________________________________________\n",
      "Flatten, B0 (Flatten)            (None, 1323)          0           MaxPooling3D, B0[0][0]           \n",
      "____________________________________________________________________________________________________\n",
      "Flatten, B1 (Flatten)            (None, 864)           0           MaxPooling3D, B1[0][0]           \n",
      "____________________________________________________________________________________________________\n",
      "Merge Layer (Merge)              (None, 2187)          0           Flatten, B0[0][0]                \n",
      "                                                                   Flatten, B1[0][0]                \n",
      "____________________________________________________________________________________________________\n",
      "Dense, N1000 L0 (Dense)          (None, 1000)          2188000     Merge Layer[0][0]                \n",
      "____________________________________________________________________________________________________\n",
      "Dropout #0of 0.5 (Dropout)       (None, 1000)          0           Dense, N1000 L0[0][0]            \n",
      "____________________________________________________________________________________________________\n",
      "Dense, N1000 L1 (Dense)          (None, 1000)          1001000     Dropout #0of 0.5[0][0]           \n",
      "____________________________________________________________________________________________________\n",
      "Dropout #1of 0.5 (Dropout)       (None, 1000)          0           Dense, N1000 L1[0][0]            \n",
      "____________________________________________________________________________________________________\n",
      "Binary Output Layer (Dense)      (None, 1)             1001        Dropout #1of 0.5[0][0]           \n",
      "====================================================================================================\n",
      "Total params: 3192431\n",
      "____________________________________________________________________________________________________\n"
     ]
    }
   ],
   "source": [
    "model.summary()"
   ]
  },
  {
   "cell_type": "code",
   "execution_count": null,
   "metadata": {
    "collapsed": true
   },
   "outputs": [],
   "source": []
  }
 ],
 "metadata": {
  "kernelspec": {
   "display_name": "Python 2",
   "language": "python",
   "name": "python2"
  },
  "language_info": {
   "codemirror_mode": {
    "name": "ipython",
    "version": 2
   },
   "file_extension": ".py",
   "mimetype": "text/x-python",
   "name": "python",
   "nbconvert_exporter": "python",
   "pygments_lexer": "ipython2",
   "version": "2.7.9"
  }
 },
 "nbformat": 4,
 "nbformat_minor": 0
}
