{
 "cells": [
  {
   "cell_type": "code",
   "execution_count": 1,
   "metadata": {
    "collapsed": false
   },
   "outputs": [
    {
     "name": "stderr",
     "output_type": "stream",
     "text": [
      "Using Theano backend.\n",
      "Using gpu device 0: GeForce GTX TITAN X (CNMeM is disabled, cuDNN not available)"
     ]
    },
    {
     "name": "stdout",
     "output_type": "stream",
     "text": [
      "Couldn't import dot_parser, loading of dot files will not be possible.\n"
     ]
    },
    {
     "name": "stderr",
     "output_type": "stream",
     "text": [
      "\n"
     ]
    }
   ],
   "source": [
    "#import deepconfig\n",
    "import sys\n",
    "import re\n",
    "import glob\n",
    "from io_functions import *"
   ]
  },
  {
   "cell_type": "code",
   "execution_count": 2,
   "metadata": {
    "collapsed": false
   },
   "outputs": [
    {
     "data": {
      "application/javascript": [
       "require(['codemirror/mode/clike/clike'], function(Clike) { console.log('ROOTaaS - C++ CodeMirror module loaded'); });"
      ]
     },
     "metadata": {},
     "output_type": "display_data"
    },
    {
     "data": {
      "application/javascript": [
       "IPython.CodeCell.config_defaults.highlight_modes['magic_text/x-c++src'] = {'reg':[/^%%cpp/]};"
      ]
     },
     "metadata": {},
     "output_type": "display_data"
    },
    {
     "name": "stdout",
     "output_type": "stream",
     "text": [
      "Welcome to ROOTaaS 6.06/04\n"
     ]
    }
   ],
   "source": [
    "from nn_packages import * \n",
    "from nn_graphics import * \n",
    "import numpy as np\n",
    "from __future__ import print_function\n",
    "import h5py"
   ]
  },
  {
   "cell_type": "code",
   "execution_count": 3,
   "metadata": {
    "collapsed": true
   },
   "outputs": [],
   "source": [
    "def find_energy(filename):\n",
    "    index1 = filename.find('_')\n",
    "    index2 = filename.find('Ge', index1 + 1)\n",
    "    try:\n",
    "        return int(filename[index2+1:index2+4])\n",
    "    except:\n",
    "        return int(filename[index2+1:index2+3])"
   ]
  },
  {
   "cell_type": "code",
   "execution_count": null,
   "metadata": {
    "collapsed": false
   },
   "outputs": [],
   "source": [
    "nf=0\n",
    "l=0\n",
    "for file in os.listdir(\"/data/kaustuv1993/GammaEscan\"):\n",
    "    if file.endswith(\"GeV.h5\"):\n",
    "        nf+=1\n",
    "        l=len(file)\n",
    "print(nf)\n",
    "print(l)\n",
    "\n",
    "#signal=get_dataset(\"/home/kaustuv1993/Data/GammaEscan/\")\n",
    "#save_dataset(\"/home/kaustuv1993/Data/GammaEscan/\", signal)\n",
    "#print signals"
   ]
  },
  {
   "cell_type": "code",
   "execution_count": null,
   "metadata": {
    "collapsed": false
   },
   "outputs": [],
   "source": [
    "numbers = re.compile(r'(\\d+)')\n",
    "def numericalSort(value):\n",
    "    parts = numbers.split(value)\n",
    "    parts[1::2] = map(int, parts[1::2])\n",
    "    return parts"
   ]
  },
  {
   "cell_type": "code",
   "execution_count": 4,
   "metadata": {
    "collapsed": false
   },
   "outputs": [
    {
     "name": "stderr",
     "output_type": "stream",
     "text": [
      "io_functions.py:38: FutureWarning: comparison to `None` will result in an elementwise object comparison in the future.\n",
      "  if big==None:\n",
      "io_functions.py:45: FutureWarning: comparison to `None` will result in an elementwise object comparison in the future.\n",
      "  if big!=None:\n"
     ]
    },
    {
     "name": "stdout",
     "output_type": "stream",
     "text": [
      "init\n",
      "(10000, 20, 20, 25)\n"
     ]
    },
    {
     "ename": "IOError",
     "evalue": "Unable to create file (Unable to open file: name = '/data/kaustuv1993/energyscan_gamma/gammaescan_10gev_fulldataset.h5', errno = 13, error message = 'permission denied', flags = 13, o_flags = 242)",
     "output_type": "error",
     "traceback": [
      "\u001b[1;31m---------------------------------------------------------------------------\u001b[0m",
      "\u001b[1;31mIOError\u001b[0m                                   Traceback (most recent call last)",
      "\u001b[1;32m<ipython-input-4-e2d743b5e455>\u001b[0m in \u001b[0;36m<module>\u001b[1;34m()\u001b[0m\n\u001b[0;32m      1\u001b[0m \u001b[1;32mfor\u001b[0m \u001b[0mi\u001b[0m \u001b[1;32min\u001b[0m \u001b[0mxrange\u001b[0m\u001b[1;33m(\u001b[0m\u001b[1;36m10\u001b[0m\u001b[1;33m,\u001b[0m\u001b[1;36m110\u001b[0m\u001b[1;33m)\u001b[0m\u001b[1;33m:\u001b[0m\u001b[1;33m\u001b[0m\u001b[0m\n\u001b[0;32m      2\u001b[0m     \u001b[0md\u001b[0m\u001b[1;33m=\u001b[0m\u001b[0mget_dataset\u001b[0m\u001b[1;33m(\u001b[0m\u001b[1;34m'/data/shared/LCD/GammaEscan/GammaEscan_*_%dGeV'\u001b[0m \u001b[1;33m%\u001b[0m\u001b[0mi\u001b[0m\u001b[1;33m)\u001b[0m\u001b[1;33m\u001b[0m\u001b[0m\n\u001b[1;32m----> 3\u001b[1;33m     \u001b[0msave_dataset\u001b[0m\u001b[1;33m(\u001b[0m\u001b[1;34m'/data/kaustuv1993/EnergyScan_Gamma/GammaEscan_%dGeV'\u001b[0m\u001b[1;33m%\u001b[0m\u001b[0mi\u001b[0m\u001b[1;33m,\u001b[0m \u001b[0md\u001b[0m\u001b[1;33m)\u001b[0m\u001b[1;33m\u001b[0m\u001b[0m\n\u001b[0m\u001b[0;32m      4\u001b[0m     \u001b[1;32mprint\u001b[0m \u001b[1;33m(\u001b[0m\u001b[0mi\u001b[0m\u001b[1;33m)\u001b[0m\u001b[1;33m\u001b[0m\u001b[0m\n\u001b[0;32m      5\u001b[0m \u001b[1;32mprint\u001b[0m \u001b[1;33m(\u001b[0m\u001b[0mlen\u001b[0m\u001b[1;33m(\u001b[0m\u001b[0md\u001b[0m\u001b[1;33m)\u001b[0m\u001b[1;33m)\u001b[0m\u001b[1;33m\u001b[0m\u001b[0m\n",
      "\u001b[1;32m/home/jayesh/Notebooks_dev/io_functions.pyc\u001b[0m in \u001b[0;36msave_dataset\u001b[1;34m(directory, dataset)\u001b[0m\n\u001b[0;32m     48\u001b[0m \u001b[1;33m\u001b[0m\u001b[0m\n\u001b[0;32m     49\u001b[0m \u001b[1;32mdef\u001b[0m \u001b[0msave_dataset\u001b[0m\u001b[1;33m(\u001b[0m\u001b[0mdirectory\u001b[0m\u001b[1;33m,\u001b[0m \u001b[0mdataset\u001b[0m\u001b[1;33m)\u001b[0m\u001b[1;33m:\u001b[0m\u001b[1;33m\u001b[0m\u001b[0m\n\u001b[1;32m---> 50\u001b[1;33m     \u001b[0mstore\u001b[0m \u001b[1;33m=\u001b[0m \u001b[0mh5py\u001b[0m\u001b[1;33m.\u001b[0m\u001b[0mFile\u001b[0m\u001b[1;33m(\u001b[0m\u001b[1;34m'%s_fulldataset.h5'\u001b[0m\u001b[1;33m%\u001b[0m\u001b[0mdirectory\u001b[0m\u001b[1;33m,\u001b[0m \u001b[1;34m'w'\u001b[0m\u001b[1;33m)\u001b[0m\u001b[1;33m\u001b[0m\u001b[0m\n\u001b[0m\u001b[0;32m     51\u001b[0m     \u001b[0mstore\u001b[0m\u001b[1;33m[\u001b[0m\u001b[1;34m'images'\u001b[0m\u001b[1;33m]\u001b[0m \u001b[1;33m=\u001b[0m \u001b[0mdataset\u001b[0m\u001b[1;33m\u001b[0m\u001b[0m\n\u001b[0;32m     52\u001b[0m     \u001b[0mstore\u001b[0m\u001b[1;33m.\u001b[0m\u001b[0mclose\u001b[0m\u001b[1;33m(\u001b[0m\u001b[1;33m)\u001b[0m\u001b[1;33m\u001b[0m\u001b[0m\n",
      "\u001b[1;32m/usr/local/lib/python2.7/dist-packages/h5py/_hl/files.pyc\u001b[0m in \u001b[0;36m__init__\u001b[1;34m(self, name, mode, driver, libver, userblock_size, swmr, **kwds)\u001b[0m\n\u001b[0;32m    258\u001b[0m \u001b[1;33m\u001b[0m\u001b[0m\n\u001b[0;32m    259\u001b[0m                 \u001b[0mfapl\u001b[0m \u001b[1;33m=\u001b[0m \u001b[0mmake_fapl\u001b[0m\u001b[1;33m(\u001b[0m\u001b[0mdriver\u001b[0m\u001b[1;33m,\u001b[0m \u001b[0mlibver\u001b[0m\u001b[1;33m,\u001b[0m \u001b[1;33m**\u001b[0m\u001b[0mkwds\u001b[0m\u001b[1;33m)\u001b[0m\u001b[1;33m\u001b[0m\u001b[0m\n\u001b[1;32m--> 260\u001b[1;33m                 \u001b[0mfid\u001b[0m \u001b[1;33m=\u001b[0m \u001b[0mmake_fid\u001b[0m\u001b[1;33m(\u001b[0m\u001b[0mname\u001b[0m\u001b[1;33m,\u001b[0m \u001b[0mmode\u001b[0m\u001b[1;33m,\u001b[0m \u001b[0muserblock_size\u001b[0m\u001b[1;33m,\u001b[0m \u001b[0mfapl\u001b[0m\u001b[1;33m,\u001b[0m \u001b[0mswmr\u001b[0m\u001b[1;33m=\u001b[0m\u001b[0mswmr\u001b[0m\u001b[1;33m)\u001b[0m\u001b[1;33m\u001b[0m\u001b[0m\n\u001b[0m\u001b[0;32m    261\u001b[0m \u001b[1;33m\u001b[0m\u001b[0m\n\u001b[0;32m    262\u001b[0m                 \u001b[1;32mif\u001b[0m \u001b[0mswmr_support\u001b[0m\u001b[1;33m:\u001b[0m\u001b[1;33m\u001b[0m\u001b[0m\n",
      "\u001b[1;32m/usr/local/lib/python2.7/dist-packages/h5py/_hl/files.pyc\u001b[0m in \u001b[0;36mmake_fid\u001b[1;34m(name, mode, userblock_size, fapl, fcpl, swmr)\u001b[0m\n\u001b[0;32m     93\u001b[0m         \u001b[0mfid\u001b[0m \u001b[1;33m=\u001b[0m \u001b[0mh5f\u001b[0m\u001b[1;33m.\u001b[0m\u001b[0mcreate\u001b[0m\u001b[1;33m(\u001b[0m\u001b[0mname\u001b[0m\u001b[1;33m,\u001b[0m \u001b[0mh5f\u001b[0m\u001b[1;33m.\u001b[0m\u001b[0mACC_EXCL\u001b[0m\u001b[1;33m,\u001b[0m \u001b[0mfapl\u001b[0m\u001b[1;33m=\u001b[0m\u001b[0mfapl\u001b[0m\u001b[1;33m,\u001b[0m \u001b[0mfcpl\u001b[0m\u001b[1;33m=\u001b[0m\u001b[0mfcpl\u001b[0m\u001b[1;33m)\u001b[0m\u001b[1;33m\u001b[0m\u001b[0m\n\u001b[0;32m     94\u001b[0m     \u001b[1;32melif\u001b[0m \u001b[0mmode\u001b[0m \u001b[1;33m==\u001b[0m \u001b[1;34m'w'\u001b[0m\u001b[1;33m:\u001b[0m\u001b[1;33m\u001b[0m\u001b[0m\n\u001b[1;32m---> 95\u001b[1;33m         \u001b[0mfid\u001b[0m \u001b[1;33m=\u001b[0m \u001b[0mh5f\u001b[0m\u001b[1;33m.\u001b[0m\u001b[0mcreate\u001b[0m\u001b[1;33m(\u001b[0m\u001b[0mname\u001b[0m\u001b[1;33m,\u001b[0m \u001b[0mh5f\u001b[0m\u001b[1;33m.\u001b[0m\u001b[0mACC_TRUNC\u001b[0m\u001b[1;33m,\u001b[0m \u001b[0mfapl\u001b[0m\u001b[1;33m=\u001b[0m\u001b[0mfapl\u001b[0m\u001b[1;33m,\u001b[0m \u001b[0mfcpl\u001b[0m\u001b[1;33m=\u001b[0m\u001b[0mfcpl\u001b[0m\u001b[1;33m)\u001b[0m\u001b[1;33m\u001b[0m\u001b[0m\n\u001b[0m\u001b[0;32m     96\u001b[0m     \u001b[1;32melif\u001b[0m \u001b[0mmode\u001b[0m \u001b[1;33m==\u001b[0m \u001b[1;34m'a'\u001b[0m\u001b[1;33m:\u001b[0m\u001b[1;33m\u001b[0m\u001b[0m\n\u001b[0;32m     97\u001b[0m         \u001b[1;31m# Open in append mode (read/write).\u001b[0m\u001b[1;33m\u001b[0m\u001b[1;33m\u001b[0m\u001b[0m\n",
      "\u001b[1;32mh5py/_objects.pyx\u001b[0m in \u001b[0;36mh5py._objects.with_phil.wrapper (/tmp/pip-build-vbVj8U/h5py/h5py/_objects.c:2579)\u001b[1;34m()\u001b[0m\n",
      "\u001b[1;32mh5py/_objects.pyx\u001b[0m in \u001b[0;36mh5py._objects.with_phil.wrapper (/tmp/pip-build-vbVj8U/h5py/h5py/_objects.c:2538)\u001b[1;34m()\u001b[0m\n",
      "\u001b[1;32mh5py/h5f.pyx\u001b[0m in \u001b[0;36mh5py.h5f.create (/tmp/pip-build-vbVj8U/h5py/h5py/h5f.c:1989)\u001b[1;34m()\u001b[0m\n",
      "\u001b[1;31mIOError\u001b[0m: Unable to create file (Unable to open file: name = '/data/kaustuv1993/energyscan_gamma/gammaescan_10gev_fulldataset.h5', errno = 13, error message = 'permission denied', flags = 13, o_flags = 242)"
     ]
    }
   ],
   "source": [
    "for i in xrange(10,110):\n",
    "    d=get_dataset('/data/shared/LCD/GammaEscan/GammaEscan_*_%dGeV' %i)\n",
    "    save_dataset('/data/kaustuv1993/EnergyScan_Gamma/GammaEscan_%dGeV'%i, d)\n",
    "    print (i)\n",
    "print (len(d))"
   ]
  },
  {
   "cell_type": "code",
   "execution_count": null,
   "metadata": {
    "collapsed": false
   },
   "outputs": [],
   "source": [
    "for i in xrange(10,110):\n",
    "    d=get_dataset('/data/shared/LCD/Pi0Escan/Pi0Escan_*_%dGeV' %i)\n",
    "    save_dataset('/data/kaustuv1993/EnergyScan_Pi0/Pi0Escan_%dGeV'%i, d)\n",
    "    \n",
    "    print (i)\n",
    "print (len(d))"
   ]
  },
  {
   "cell_type": "code",
   "execution_count": null,
   "metadata": {
    "collapsed": false,
    "scrolled": true
   },
   "outputs": [],
   "source": [
    "#fnames=np.chararray(nf,itemsize=23)\n",
    "#temp=np.empty([])\n",
    "#i=0\n",
    "#for file in os.listdir(\"/home/kaustuv1993/Data/Energy_Scan_Gamma/\"):\n",
    "#    if file.endswith(\".h5\"):\n",
    "#        print file\n",
    "#        #fnames[i]=file\n",
    "#        en=int(filter(str.isdigit,(file)))/10\n",
    "#        \n",
    "#        i+=1 \n",
    "#print fnames"
   ]
  },
  {
   "cell_type": "code",
   "execution_count": null,
   "metadata": {
    "collapsed": false
   },
   "outputs": [],
   "source": [
    "#changing labels on the photon files\n",
    "import sys\n",
    "for i in xrange(10, 110):\n",
    "    fname=(\"/data/kaustuv1993/EnergyScan_Gamma/GammaEscan_%dGeV_fulldataset.h5\"%i)\n",
    "    f=h5py.File(fname,'r+')\n",
    "    if i<100:\n",
    "        fname=fname[-31:]\n",
    "        fname=fname[0:28]\n",
    "        print (fname)\n",
    "    if i>100:\n",
    "        fname=fname[-32:]\n",
    "        fname=fname[0:29]\n",
    "        print (fname)\n",
    "    print (i, f.keys())\n",
    "    \n",
    "    en=int(filter(str.isdigit,(fname)))\n",
    "    target = np.zeros((f['images'].shape[0], 2))\n",
    "    target[:,0] = 1\n",
    "    target[:,1] = en\n",
    "    print (en)\n",
    "    f['target'] = target\n",
    "    f.close()\n",
    "    f.keys()"
   ]
  },
  {
   "cell_type": "code",
   "execution_count": null,
   "metadata": {
    "collapsed": false,
    "scrolled": true
   },
   "outputs": [],
   "source": [
    "changing labels on the pion files\n",
    "for i in xrange(10, 110):\n",
    "    fname=(\"/home/kaustuv1993/Data/Energy_Scan_Pi0/Pi0Escan_%dGeV_fulldataset.h5\"%i)\n",
    "    f=h5py.File(fname,'r+')\n",
    "    if i<100:\n",
    "        fname=fname[-29:]\n",
    "        fname=fname[0:26]\n",
    "        print fname\n",
    "    if i>100:\n",
    "        fname=fname[-30:]\n",
    "        fname=fname[0:27]\n",
    "        print fname\n",
    "    print i, f.keys()\n",
    "   \n",
    "    en=int(filter(str.isdigit,(fname)))\n",
    "    print en\n",
    "    target = np.zeros((f['images'].shape[0], 2))\n",
    "    target[:,0] = 0\n",
    "    target[:,1] = en\n",
    "    print (en)\n",
    "    f['target'] = target\n",
    "    f.close()\n",
    "    f.keys()"
   ]
  },
  {
   "cell_type": "code",
   "execution_count": null,
   "metadata": {
    "collapsed": false,
    "scrolled": true
   },
   "outputs": [],
   "source": [
    "#Creating merged datasets of the pion and photons, for each individual energy\n",
    "\n",
    "for i in xrange(10, 110):\n",
    "    print (i)\n",
    "    fname0=(\"/home/kaustuv1993/Data/Energy_Scan_Pi0/Pi0Escan_%dGeV_fulldataset.h5\"%i)\n",
    "    fname1=(\"/home/kaustuv1993/Data/Energy_Scan_Gamma/GammaEscan_%dGeV_fulldataset.h5\"%i)\n",
    "    f0=h5py.File(fname0,'r+')\n",
    "    f1=h5py.File(fname1,'r+')\n",
    "    np_data00=np.array(f0.get('images'))\n",
    "    np_data01=np.array(f0.get('target'))\n",
    "    np_data10=np.array(f1.get('images'))\n",
    "    np_data11=np.array(f1.get('target'))\n",
    "    np_fi=np.concatenate((np_data00,np_data10),axis=0)\n",
    "    np_ft=np.concatenate((np_data01,np_data11),axis=0)\n",
    "    #print f0['target'].shape[0],f1['target'].shape[0]\n",
    "    with h5py.File('/home/kaustuv1993/Data/Energy_Scan/GammaPi0_%dGeV.h5'%i,'w') as hf:\n",
    "        hf.create_dataset('images',data=np_fi)\n",
    "        hf.create_dataset('target',data=np_ft)\n",
    "    "
   ]
  },
  {
   "cell_type": "code",
   "execution_count": null,
   "metadata": {
    "collapsed": false
   },
   "outputs": [],
   "source": [
    "f=h5py.File('/home/kaustuv1993/Data/Energy_Scan/GammaPi0_10GeV','r')\n",
    "perm = np.random.permutation(len(f))\n",
    "print (len(f), perm)"
   ]
  },
  {
   "cell_type": "code",
   "execution_count": null,
   "metadata": {
    "collapsed": false,
    "scrolled": true
   },
   "outputs": [],
   "source": [
    "for i in xrange(10,110):\n",
    "    print (i)\n",
    "    fname0 = ('/home/kaustuv1993/Data/Energy_Scan/GammaPi0_%dGeV.h5'%i)\n",
    "    f0=h5py.File(fname0,'r')\n",
    "    d00=f0['images']\n",
    "    d01=f0['target']\n",
    "    np00=np.array(d00)\n",
    "    np01=np.array(d01)\n",
    "    if np00.shape[0]<20000:\n",
    "        print (fname0)"
   ]
  },
  {
   "cell_type": "code",
   "execution_count": null,
   "metadata": {
    "collapsed": false,
    "scrolled": true
   },
   "outputs": [],
   "source": [
    "#for i in xrange(0,100):\n",
    "#    a=h5py.File(\"/home/kaustuv1993/Data/LCD_GammaPi0_reshuffled/GammaPi0_%d\"%i, 'w')\n",
    "#    print (i)\n",
    "for i in xrange(0,400):\n",
    "    print (i)\n",
    "    perm=np.random.permutation(np.arange(10,110))\n",
    "   \n",
    "    f0=h5py.File('/data/kaustuv1993/Data/Energy_Scan/GammaPi0_%dGeV.h5'%perm[0],'r+')\n",
    "    f1=h5py.File('/data/kaustuv1993/Data/Energy_Scan/GammaPi0_%dGeV.h5'%perm[25],'r+')\n",
    "    fname0 = ('/data/kaustuv1993/Data/Energy_Scan/GammaPi0_%dGeV.h5'%perm[0])\n",
    "    fname1 = ('/data/kaustuv1993/Data/Energy_Scan/GammaPi0_%dGeV.h5'%perm[25])\n",
    "    \n",
    "    np00=np.array(f0['images'])\n",
    "    np01=np.array(f0['target'])\n",
    "    np10=np.array(f1['images'])\n",
    "    np11=np.array(f1['target'])\n",
    "    \n",
    "    np0=np.concatenate((np00,np10),axis=0)\n",
    "    np1=np.concatenate((np01,np11),axis=0)\n",
    "    \n",
    "    rperm=np.random.permutation(np0.shape[0])\n",
    "    \n",
    "    np0=np0[rperm]\n",
    "    np1=np1[rperm]\n",
    "    np00=np0[:20000]\n",
    "    np10=np0[20000:]\n",
    "    np01=np1[:20000]\n",
    "    np11=np1[20000:] \n",
    "    #d00=np00\n",
    "    #d01=np01\n",
    "    #d10=np10\n",
    "    #d11=np11\n",
    "    #print (f0.name(), f1.name())\n",
    "    f0.close()\n",
    "    f1.close()\n",
    "    with h5py.File(fname0,'w') as hf:\n",
    "        hf.create_dataset('images',data=np00)\n",
    "        hf.create_dataset('target',data=np01)\n",
    "        \n",
    "    with h5py.File(fname1,'w') as hf:\n",
    "        hf.create_dataset('images',data=np10)\n",
    "        hf.create_dataset('target',data=np11)\n",
    "    \n",
    "    #print (i,j)\n",
    "    #if i==1:\n",
    "    #    print(len(np0),len(np1))"
   ]
  },
  {
   "cell_type": "code",
   "execution_count": null,
   "metadata": {
    "collapsed": false
   },
   "outputs": [],
   "source": []
  },
  {
   "cell_type": "code",
   "execution_count": null,
   "metadata": {
    "collapsed": false
   },
   "outputs": [],
   "source": []
  },
  {
   "cell_type": "code",
   "execution_count": 5,
   "metadata": {
    "collapsed": false,
    "scrolled": true
   },
   "outputs": [
    {
     "name": "stdout",
     "output_type": "stream",
     "text": [
      "10\n"
     ]
    },
    {
     "ename": "IOError",
     "evalue": "Unable to create file (Unable to open file: name = '/data/kaustuv1993/energyscan_gamma/gammaescan_10gev_fulldataset.h5', errno = 13, error message = 'permission denied', flags = 13, o_flags = 242)",
     "output_type": "error",
     "traceback": [
      "\u001b[1;31m---------------------------------------------------------------------------\u001b[0m",
      "\u001b[1;31mIOError\u001b[0m                                   Traceback (most recent call last)",
      "\u001b[1;32m<ipython-input-5-2ef45c289316>\u001b[0m in \u001b[0;36m<module>\u001b[1;34m()\u001b[0m\n\u001b[0;32m      4\u001b[0m     \u001b[0mf0\u001b[0m\u001b[1;33m=\u001b[0m\u001b[0mh5py\u001b[0m\u001b[1;33m.\u001b[0m\u001b[0mFile\u001b[0m\u001b[1;33m(\u001b[0m\u001b[0mfname0\u001b[0m\u001b[1;33m,\u001b[0m\u001b[1;34m'r'\u001b[0m\u001b[1;33m)\u001b[0m\u001b[1;33m\u001b[0m\u001b[0m\n\u001b[0;32m      5\u001b[0m     \u001b[1;31m#f1=h5py.File('/data/shared/LCD/Energy_Scan/GammaPi0_%d_shuffled.h5'%(i-9),'w')\u001b[0m\u001b[1;33m\u001b[0m\u001b[1;33m\u001b[0m\u001b[0m\n\u001b[1;32m----> 6\u001b[1;33m     \u001b[0mf1\u001b[0m\u001b[1;33m=\u001b[0m\u001b[0mh5py\u001b[0m\u001b[1;33m.\u001b[0m\u001b[0mFile\u001b[0m\u001b[1;33m(\u001b[0m\u001b[1;34m'/data/kaustuv1993/EnergyScan_Gamma/GammaEscan_%dGeV_fulldataset.h5'\u001b[0m\u001b[1;33m%\u001b[0m\u001b[0mi\u001b[0m\u001b[1;33m,\u001b[0m\u001b[1;34m'w'\u001b[0m\u001b[1;33m)\u001b[0m\u001b[1;33m\u001b[0m\u001b[0m\n\u001b[0m\u001b[0;32m      7\u001b[0m     \u001b[0md00\u001b[0m\u001b[1;33m=\u001b[0m\u001b[0mf0\u001b[0m\u001b[1;33m[\u001b[0m\u001b[1;34m'images'\u001b[0m\u001b[1;33m]\u001b[0m\u001b[1;33m\u001b[0m\u001b[0m\n\u001b[0;32m      8\u001b[0m     \u001b[0md01\u001b[0m\u001b[1;33m=\u001b[0m\u001b[0mf0\u001b[0m\u001b[1;33m[\u001b[0m\u001b[1;34m'target'\u001b[0m\u001b[1;33m]\u001b[0m\u001b[1;33m\u001b[0m\u001b[0m\n",
      "\u001b[1;32m/usr/local/lib/python2.7/dist-packages/h5py/_hl/files.pyc\u001b[0m in \u001b[0;36m__init__\u001b[1;34m(self, name, mode, driver, libver, userblock_size, swmr, **kwds)\u001b[0m\n\u001b[0;32m    258\u001b[0m \u001b[1;33m\u001b[0m\u001b[0m\n\u001b[0;32m    259\u001b[0m                 \u001b[0mfapl\u001b[0m \u001b[1;33m=\u001b[0m \u001b[0mmake_fapl\u001b[0m\u001b[1;33m(\u001b[0m\u001b[0mdriver\u001b[0m\u001b[1;33m,\u001b[0m \u001b[0mlibver\u001b[0m\u001b[1;33m,\u001b[0m \u001b[1;33m**\u001b[0m\u001b[0mkwds\u001b[0m\u001b[1;33m)\u001b[0m\u001b[1;33m\u001b[0m\u001b[0m\n\u001b[1;32m--> 260\u001b[1;33m                 \u001b[0mfid\u001b[0m \u001b[1;33m=\u001b[0m \u001b[0mmake_fid\u001b[0m\u001b[1;33m(\u001b[0m\u001b[0mname\u001b[0m\u001b[1;33m,\u001b[0m \u001b[0mmode\u001b[0m\u001b[1;33m,\u001b[0m \u001b[0muserblock_size\u001b[0m\u001b[1;33m,\u001b[0m \u001b[0mfapl\u001b[0m\u001b[1;33m,\u001b[0m \u001b[0mswmr\u001b[0m\u001b[1;33m=\u001b[0m\u001b[0mswmr\u001b[0m\u001b[1;33m)\u001b[0m\u001b[1;33m\u001b[0m\u001b[0m\n\u001b[0m\u001b[0;32m    261\u001b[0m \u001b[1;33m\u001b[0m\u001b[0m\n\u001b[0;32m    262\u001b[0m                 \u001b[1;32mif\u001b[0m \u001b[0mswmr_support\u001b[0m\u001b[1;33m:\u001b[0m\u001b[1;33m\u001b[0m\u001b[0m\n",
      "\u001b[1;32m/usr/local/lib/python2.7/dist-packages/h5py/_hl/files.pyc\u001b[0m in \u001b[0;36mmake_fid\u001b[1;34m(name, mode, userblock_size, fapl, fcpl, swmr)\u001b[0m\n\u001b[0;32m     93\u001b[0m         \u001b[0mfid\u001b[0m \u001b[1;33m=\u001b[0m \u001b[0mh5f\u001b[0m\u001b[1;33m.\u001b[0m\u001b[0mcreate\u001b[0m\u001b[1;33m(\u001b[0m\u001b[0mname\u001b[0m\u001b[1;33m,\u001b[0m \u001b[0mh5f\u001b[0m\u001b[1;33m.\u001b[0m\u001b[0mACC_EXCL\u001b[0m\u001b[1;33m,\u001b[0m \u001b[0mfapl\u001b[0m\u001b[1;33m=\u001b[0m\u001b[0mfapl\u001b[0m\u001b[1;33m,\u001b[0m \u001b[0mfcpl\u001b[0m\u001b[1;33m=\u001b[0m\u001b[0mfcpl\u001b[0m\u001b[1;33m)\u001b[0m\u001b[1;33m\u001b[0m\u001b[0m\n\u001b[0;32m     94\u001b[0m     \u001b[1;32melif\u001b[0m \u001b[0mmode\u001b[0m \u001b[1;33m==\u001b[0m \u001b[1;34m'w'\u001b[0m\u001b[1;33m:\u001b[0m\u001b[1;33m\u001b[0m\u001b[0m\n\u001b[1;32m---> 95\u001b[1;33m         \u001b[0mfid\u001b[0m \u001b[1;33m=\u001b[0m \u001b[0mh5f\u001b[0m\u001b[1;33m.\u001b[0m\u001b[0mcreate\u001b[0m\u001b[1;33m(\u001b[0m\u001b[0mname\u001b[0m\u001b[1;33m,\u001b[0m \u001b[0mh5f\u001b[0m\u001b[1;33m.\u001b[0m\u001b[0mACC_TRUNC\u001b[0m\u001b[1;33m,\u001b[0m \u001b[0mfapl\u001b[0m\u001b[1;33m=\u001b[0m\u001b[0mfapl\u001b[0m\u001b[1;33m,\u001b[0m \u001b[0mfcpl\u001b[0m\u001b[1;33m=\u001b[0m\u001b[0mfcpl\u001b[0m\u001b[1;33m)\u001b[0m\u001b[1;33m\u001b[0m\u001b[0m\n\u001b[0m\u001b[0;32m     96\u001b[0m     \u001b[1;32melif\u001b[0m \u001b[0mmode\u001b[0m \u001b[1;33m==\u001b[0m \u001b[1;34m'a'\u001b[0m\u001b[1;33m:\u001b[0m\u001b[1;33m\u001b[0m\u001b[0m\n\u001b[0;32m     97\u001b[0m         \u001b[1;31m# Open in append mode (read/write).\u001b[0m\u001b[1;33m\u001b[0m\u001b[1;33m\u001b[0m\u001b[0m\n",
      "\u001b[1;32mh5py/_objects.pyx\u001b[0m in \u001b[0;36mh5py._objects.with_phil.wrapper (/tmp/pip-build-vbVj8U/h5py/h5py/_objects.c:2579)\u001b[1;34m()\u001b[0m\n",
      "\u001b[1;32mh5py/_objects.pyx\u001b[0m in \u001b[0;36mh5py._objects.with_phil.wrapper (/tmp/pip-build-vbVj8U/h5py/h5py/_objects.c:2538)\u001b[1;34m()\u001b[0m\n",
      "\u001b[1;32mh5py/h5f.pyx\u001b[0m in \u001b[0;36mh5py.h5f.create (/tmp/pip-build-vbVj8U/h5py/h5py/h5f.c:1989)\u001b[1;34m()\u001b[0m\n",
      "\u001b[1;31mIOError\u001b[0m: Unable to create file (Unable to open file: name = '/data/kaustuv1993/energyscan_gamma/gammaescan_10gev_fulldataset.h5', errno = 13, error message = 'permission denied', flags = 13, o_flags = 242)"
     ]
    }
   ],
   "source": [
    "for i in xrange(10,110):\n",
    "    print (i)\n",
    "    fname0 = ('/data/kaustuv1993/EnergyScan_Gamma/GammaEscan_%dGeV.h5_fulldataset.h5'%i)\n",
    "    f0=h5py.File(fname0,'r')\n",
    "    #f1=h5py.File('/data/shared/LCD/Energy_Scan/GammaPi0_%d_shuffled.h5'%(i-9),'w')\n",
    "    f1=h5py.File('/data/kaustuv1993/EnergyScan_Gamma/GammaEscan_%dGeV_fulldataset.h5'%i,'w')\n",
    "    d00=f0['images']\n",
    "    d01=f0['target']\n",
    "    np00=np.array(d00)\n",
    "    np01=np.array(d01)\n",
    "    f1.create_dataset('images',data=np00)\n",
    "    f1.create_dataset('target',data=np01)\n",
    "    f0.close()\n",
    "    f1.close()"
   ]
  },
  {
   "cell_type": "code",
   "execution_count": null,
   "metadata": {
    "collapsed": false
   },
   "outputs": [],
   "source": [
    "2+2"
   ]
  },
  {
   "cell_type": "code",
   "execution_count": null,
   "metadata": {
    "collapsed": false
   },
   "outputs": [],
   "source": [
    "def h5size(fname):\n",
    "    f=h5py.File(fname,'r')\n",
    "    d00=f['images']\n",
    "    np00=np.array(d00)\n",
    "    return (np00.shape[0])"
   ]
  },
  {
   "cell_type": "code",
   "execution_count": null,
   "metadata": {
    "collapsed": false,
    "scrolled": true
   },
   "outputs": [],
   "source": [
    "#for i in xrange(1,101):\n",
    "#    print (i)\n",
    "#    fname=('/data/shared/LCD/Energy_Scan/LCD_GammaPi0_%d.h5'%i)\n",
    "#    if(h5size(fname)<20000):\n",
    "#        print (fname)"
   ]
  },
  {
   "cell_type": "code",
   "execution_count": null,
   "metadata": {
    "collapsed": false
   },
   "outputs": [],
   "source": [
    "def batch_load(filesize, i, n, data, target, repos):\n",
    "    fname = ('/data/shared/LCD/Energy_Scan/LCD_GammaPi0_%d.h5'%i)\n",
    "    f = h5py.File(fname, 'r')\n",
    "    #print ('init', i, n, repos)\n",
    "    \n",
    "    if (repos+n<filesize):\n",
    "        #print ('repos<n and n<filesize', i, n, repos)\n",
    "        data1 = np.array(f['images'][repos:repos+n])\n",
    "        target1 = np.array(f['target'][repos:repos+n])\n",
    "        #if(data.shape[0]==0):\n",
    "        #   data = data1\n",
    "        #   target= target1\n",
    "        #else:\n",
    "            \n",
    "        data = np.concatenate((data, data1), axis=0)\n",
    "        target = np.concatenate((target, target1), axis=0)\n",
    "        repos += n\n",
    "        #print (\"oui\")\n",
    "        f.close()\n",
    "        return data, target, repos, i\n",
    "    \n",
    "    else:\n",
    "        #print ('n>filesize', i, n, repos)   \n",
    "        data1=np.array(f['images'][repos:])\n",
    "        target1=np.array(f['target'][repos:])\n",
    "        \n",
    "        #if(data.shape[0]==0):\n",
    "        #    data = data1\n",
    "        #    target = target1\n",
    "        #else:\n",
    "        if(i+1<100):\n",
    "            data1, target1, repos, i = batch_load(filesize, (i+1), n-(filesize+repos), data, target, 0)\n",
    "            data = np.concatenate((data, data1), axis=0)\n",
    "            target = np.concatenate((target, target1), axis=0)\n",
    "        else:\n",
    "            i += 1\n",
    "            repos = 0\n",
    "    return data, target, repos, i\n",
    "                     \n",
    "        "
   ]
  },
  {
   "cell_type": "code",
   "execution_count": null,
   "metadata": {
    "collapsed": false
   },
   "outputs": [],
   "source": [
    "def get_batches(batch_size):\n",
    "    repos = 0\n",
    "    i = 1\n",
    "    data = np.zeros((0,20,20,25))\n",
    "    target = np.zeros((0,20,20,25))\n",
    "    while True:\n",
    "        print(i)\n",
    "        data, target, repos, i  = batch_load(20000, i, batch_size, data, target, repos)\n",
    "        yield (data,target,repos,i)\n",
    "        if i==100:\n",
    "            break\n",
    "    "
   ]
  },
  {
   "cell_type": "code",
   "execution_count": null,
   "metadata": {
    "collapsed": false
   },
   "outputs": [],
   "source": [
    "for (data1, target1, repos1, i) in get_batches(25000):\n",
    "    print (data.shape, target.shape, repos, I)"
   ]
  },
  {
   "cell_type": "code",
   "execution_count": null,
   "metadata": {
    "collapsed": false
   },
   "outputs": [],
   "source": [
    "class My_Gen:\n",
    "    def __init__( self, batch_size, filesize, filepattern='/data/shared/LCD/Energy_Scan/LCD_GammaPi0_*.h5'):\n",
    "        self.batch_size = batch_size\n",
    "        self.filelist = filter(None, os.popen('ls %s'%filepattern).read().split('\\n'))\n",
    "        self.filesize = filesize\n",
    "        self.fileindex = 0\n",
    "        self.position = 0\n",
    "        \n",
    "    def train(self):\n",
    "        return self.batches(train=True)\n",
    "    \n",
    "    def test(self):\n",
    "        return self.batches(train=False)\n",
    "    \n",
    "    def batch_helper(self, fileindex, position, batch_size, train=True):\n",
    "        '''\n",
    "        Yields batches of data of size N\n",
    "        '''\n",
    "        f = h5py.File(self.filelist[fileindex],'r')\n",
    "        if (position + batch_size < self.filesize):\n",
    "            data = np.array(f['images'][position : position + batch_size])\n",
    "            target = np.array(f['target'][position : position + batch_size])\n",
    "\n",
    "            position += batch_size\n",
    "            f.close()\n",
    "            \n",
    "            return data, target, fileindex, position\n",
    "        \n",
    "        else:\n",
    "            data = np.array(f['images'][position:])\n",
    "            target = np.array(f['target'][position:])\n",
    "            f.close()\n",
    "            \n",
    "            if (fileindex+1 < len(self.filelist)):\n",
    "                data_, target_, fileindex, position = self.batch_helper(fileindex + 1, 0, batch_size - self.filesize + position)\n",
    "                data = np.concatenate((data, data_), axis=0)\n",
    "                target = np.concatenate((target, target_), axis=0)\n",
    "            \n",
    "            else:\n",
    "                fileindex += 1\n",
    "                position = 0\n",
    "            \n",
    "            return data, target, fileindex, position\n",
    "    \n",
    "    def batches(self):\n",
    "        while (self.fileindex < len(self.filelist)):\n",
    "            data, target, self.fileindex, self.position = self.batch_helper(self.fileindex, self.position, self.batch_size)\n",
    "            if data.shape[0]!=self.batch_size:\n",
    "                continue\n",
    "            yield data, target, self.fileindex\n",
    "        self.fileindex = 0\n",
    "        "
   ]
  },
  {
   "cell_type": "code",
   "execution_count": null,
   "metadata": {
    "collapsed": false
   },
   "outputs": [],
   "source": [
    "ds = My_Gen(9000, 20000)\n",
    "print(len(ds.filelist))\n",
    "for (data, target, fileindex) in ds.batches():\n",
    "    print(data.shape, target.shape, fileindex)"
   ]
  },
  {
   "cell_type": "code",
   "execution_count": null,
   "metadata": {
    "collapsed": false
   },
   "outputs": [],
   "source": [
    "\n",
    "    "
   ]
  },
  {
   "cell_type": "code",
   "execution_count": null,
   "metadata": {
    "collapsed": true
   },
   "outputs": [],
   "source": []
  },
  {
   "cell_type": "code",
   "execution_count": null,
   "metadata": {
    "collapsed": true
   },
   "outputs": [],
   "source": []
  }
 ],
 "metadata": {
  "kernelspec": {
   "display_name": "Python 2",
   "language": "python",
   "name": "python2"
  },
  "language_info": {
   "codemirror_mode": {
    "name": "ipython",
    "version": 2
   },
   "file_extension": ".py",
   "mimetype": "text/x-python",
   "name": "python",
   "nbconvert_exporter": "python",
   "pygments_lexer": "ipython2",
   "version": "2.7.9"
  }
 },
 "nbformat": 4,
 "nbformat_minor": 0
}
